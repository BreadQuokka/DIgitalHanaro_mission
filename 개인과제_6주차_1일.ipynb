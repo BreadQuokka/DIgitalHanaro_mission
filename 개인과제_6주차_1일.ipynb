{
 "cells": [
  {
   "cell_type": "markdown",
   "id": "b1a9c9cd",
   "metadata": {},
   "source": [
    "08_Data.csv 를 불러와 df1으로 선언하고, 아래의 미션을 수행하시오.\n",
    "\n",
    "1. Z1-Temp값을 목표변수로 회귀 모델을 구성하고자 한다. 각 소입로(Tube Furnace) 온도계수(Temp)와 열전도율(OP), CP, ST값을 입력했을 때, Z1-Temp를 예측할 수 있는 모델을 **다중 선형 회귀 모델**로 구성하시오.\n",
    "    - X : 'Tube Furnace CP', 'Tube Furnace1 OP', 'Tube Furnace1 Temp', 'Tube Furnace2 OP', 'Tube Furnace2 Temp', 'Tube Furnace3 OP', 'Tube Furnace3 Temp', 'Tube Furnace4 OP', 'Tube Furnace4 Temp', 'ST'\n",
    "    - 먼저 다중 선형회귀 모델을 구성한 뒤, 성능을 확인하시오.\n",
    "    - 특성공학을 이용해, 다항 회귀 모델을 구성한 뒤, 성능을 확인하시오.\n",
    "    - 규제선형회귀 모델 중 하나를 활용해 회귀모델을 구성한 뒤, 성능을 확인하시오.\n",
    "    - 본인이 만든 모델 중 가장 성능이 좋은 모델을 Best.sav로 저장하시오.\n",
    "    - 가장 성능이 좋은 모델의 회귀 계수를 확인하시오.\n",
    "    - 현재 만든 모델을 \"08_Data_Test.csv\"파일을 넣어, Test Set Score (R2)를 계산하시오.\n",
    "2. 위의 모델에서 변수 선택법을 이용하여, 4개의 X만 선별해 Target을 예측하는 모델을 구성하고, 변수선택법에 의해 선택된 4개의 X값이 무엇인지 확인하시오.\n",
    "3. 위에서 선택된 4개의 X값들이 각각 어떤 상관관계가 있는지 확인하시오.\n",
    "4. 상관성이 가장 높은 2개의 인자를 선택해,Code_Num 별 두 변수의 평균/표준편차를 계산하시오."
   ]
  },
  {
   "cell_type": "code",
   "execution_count": 47,
   "id": "4fe15f24",
   "metadata": {},
   "outputs": [],
   "source": [
    "import pandas as pd\n",
    "from sklearn.neighbors import KNeighborsRegressor\n",
    "from sklearn.model_selection import train_test_split\n",
    "from sklearn.preprocessing import StandardScaler# 스케일러(표준화)\n",
    "from sklearn.preprocessing import PolynomialFeatures # 특성공학\n",
    "from sklearn.linear_model import LinearRegression"
   ]
  },
  {
   "cell_type": "code",
   "execution_count": 48,
   "id": "5a92709c",
   "metadata": {},
   "outputs": [],
   "source": [
    "df1=pd.read_csv(r\"C:\\Users\\hanjw\\Desktop\\python\\실습파일\\08_Data.csv\")\n",
    "df1=df1.dropna()"
   ]
  },
  {
   "cell_type": "code",
   "execution_count": 49,
   "id": "792520a6",
   "metadata": {},
   "outputs": [
    {
     "name": "stdout",
     "output_type": "stream",
     "text": [
      "0.08035478486490344\n",
      "0.08246761444498618\n"
     ]
    }
   ],
   "source": [
    "#먼저 다중 선형회귀 모델을 구성한 뒤, 성능을 확인하시오.\n",
    "data=df1[['Tube Furnace CP', 'Tube Furnace1 OP', 'Tube Furnace1 Temp', 'Tube Furnace2 OP', 'Tube Furnace2 Temp',\n",
    "    'Tube Furnace3 OP', 'Tube Furnace3 Temp', 'Tube Furnace4 OP', 'Tube Furnace4 Temp', 'ST']]\n",
    "target= df1['Z1-Temp']\n",
    "\n",
    "\n",
    "train_x, test_x, train_y, test_y = train_test_split(data, target)\n",
    "\n",
    "ss = StandardScaler()\n",
    "train_scaled = ss.fit_transform(train_x)\n",
    "test_scaled = ss.transform(test_x)\n",
    "lr = LinearRegression()# 선형 회귀\n",
    "lr.fit(train_scaled, train_y)\n",
    "print(lr.score(train_scaled, train_y))\n",
    "print(lr.score(test_scaled, test_y))"
   ]
  },
  {
   "cell_type": "code",
   "execution_count": 50,
   "id": "83caeb15",
   "metadata": {},
   "outputs": [
    {
     "name": "stdout",
     "output_type": "stream",
     "text": [
      "0.11908965777199865\n",
      "0.12021202316232782\n"
     ]
    }
   ],
   "source": [
    "#특성공학을 이용해, 다항 회귀 모델을 구성한 뒤, 성능을 확인하시오.\n",
    "from sklearn.preprocessing import PolynomialFeatures\n",
    "poly= PolynomialFeatures(degree=2, include_bias = False)\n",
    "\n",
    "train_poly= poly.fit_transform(train_scaled)\n",
    "test_poly= poly.transform(test_scaled)\n",
    "\n",
    "# lr= Ridge( alpha = 0.3)# 알파값으로 직접 과대적합 조절 \n",
    "lr= LinearRegression()\n",
    "lr.fit(train_poly, train_y)\n",
    "\n",
    "# 리니어 레그레션 썼을때\n",
    "print(lr.score(train_poly, train_y))\n",
    "print(lr.score(test_poly, test_y))"
   ]
  },
  {
   "cell_type": "code",
   "execution_count": 56,
   "id": "e5a80c97",
   "metadata": {},
   "outputs": [
    {
     "name": "stdout",
     "output_type": "stream",
     "text": [
      "0.2317631918024864\n",
      "0.15062718389979246\n"
     ]
    }
   ],
   "source": [
    "#규제선형회귀 모델 중 하나를 활용해 회귀모델을 구성한 뒤, 성능을 확인하시오.\n",
    "from sklearn.preprocessing import PolynomialFeatures\n",
    "from sklearn.linear_model import Ridge,Lasso, ElasticNet\n",
    "poly= PolynomialFeatures(degree=5, include_bias = False)\n",
    "\n",
    "train_poly= poly.fit_transform(train_scaled)\n",
    "test_poly= poly.transform(test_scaled)\n",
    "\n",
    "lr= Ridge( alpha = 0.3)# 알파값으로 직접 과대적합 조절 \n",
    "#lr= LinearRegression()\n",
    "lr.fit(train_poly, train_y)\n",
    "\n",
    "print(lr.score(train_poly, train_y))\n",
    "print(lr.score(test_poly, test_y))"
   ]
  },
  {
   "cell_type": "code",
   "execution_count": 58,
   "id": "ed90a67a",
   "metadata": {},
   "outputs": [
    {
     "name": "stdout",
     "output_type": "stream",
     "text": [
      "0.09217131533846445\n",
      "0.09675208443381944\n"
     ]
    }
   ],
   "source": [
    "#규제선형회귀 모델 중 하나를 활용해 회귀모델을 구성한 뒤, 성능을 확인하시오.\n",
    "from sklearn.preprocessing import PolynomialFeatures\n",
    "from sklearn.linear_model import Ridge,Lasso, ElasticNet\n",
    "poly= PolynomialFeatures(degree=5, include_bias = False)\n",
    "\n",
    "train_poly= poly.fit_transform(train_scaled)\n",
    "test_poly= poly.transform(test_scaled)\n",
    "\n",
    "lr= Lasso( alpha = 0.3)# 알파값으로 직접 과대적합 조절 \n",
    "#lr= LinearRegression()\n",
    "lr.fit(train_poly, train_y)\n",
    "\n",
    "print(lr.score(train_poly, train_y))\n",
    "print(lr.score(test_poly, test_y))### 라쏘는 너무 낮게 나옴..."
   ]
  },
  {
   "cell_type": "markdown",
   "id": "0b2cd67d",
   "metadata": {},
   "source": [
    "# 피클"
   ]
  },
  {
   "cell_type": "code",
   "execution_count": 72,
   "id": "56a2a056",
   "metadata": {},
   "outputs": [],
   "source": [
    "#본인이 만든 모델 중 가장 성능이 좋은 모델을 Best.sav로 저장하시오.\n",
    "import pickle\n",
    "f= open('Best.sav', 'wb')\n",
    "pickle.dump(lr, f)\n",
    "f.close()"
   ]
  },
  {
   "cell_type": "code",
   "execution_count": 57,
   "id": "5e4e1cfa",
   "metadata": {},
   "outputs": [
    {
     "name": "stdout",
     "output_type": "stream",
     "text": [
      "0.15062718389979246\n"
     ]
    }
   ],
   "source": [
    "#가장 성능이 좋은 모델의 회귀 계수를 확인하시오.\n",
    "#-> 릿지를 썼을때 \n",
    "print(lr.score(test_poly, test_y))"
   ]
  },
  {
   "cell_type": "markdown",
   "id": "e309f1eb",
   "metadata": {},
   "source": [
    "#2 위의 모델에서 변수 선택법을 이용하여, 4개의 X만 선별해 Target을 예측하는 모델을 구성하고, 변수선택법에 의해 선택된 4개의 X값이 무엇인지 확인하시오."
   ]
  },
  {
   "cell_type": "code",
   "execution_count": 59,
   "id": "0d1c0c4d",
   "metadata": {},
   "outputs": [
    {
     "data": {
      "text/plain": [
       "array(['Tube Furnace1 OP', 'Tube Furnace2 OP', 'Tube Furnace4 OP', 'ST'],\n",
       "      dtype=object)"
      ]
     },
     "execution_count": 59,
     "metadata": {},
     "output_type": "execute_result"
    }
   ],
   "source": [
    "from sklearn.feature_selection import SelectKBest, f_classif \n",
    "\n",
    "data=df1[['Tube Furnace CP', 'Tube Furnace1 OP', 'Tube Furnace1 Temp', 'Tube Furnace2 OP', 'Tube Furnace2 Temp',\n",
    "    'Tube Furnace3 OP', 'Tube Furnace3 Temp', 'Tube Furnace4 OP', 'Tube Furnace4 Temp', 'ST']]\n",
    "target= df1['Z1-Temp']\n",
    "\n",
    "X= data\n",
    "Y= target\n",
    "\n",
    "\n",
    "selector = SelectKBest(f_classif, k= 4)\n",
    "X_new= selector.fit_transform(X,Y)\n",
    "\n",
    "selector.get_feature_names_out()\n"
   ]
  },
  {
   "cell_type": "markdown",
   "id": "d3a2e718",
   "metadata": {},
   "source": [
    "3. 위에서 선택된 4개의 X값들이 각각 어떤 상관관계가 있는지 확인하시오."
   ]
  },
  {
   "cell_type": "code",
   "execution_count": 64,
   "id": "9ac1c057",
   "metadata": {},
   "outputs": [
    {
     "data": {
      "text/html": [
       "<div>\n",
       "<style scoped>\n",
       "    .dataframe tbody tr th:only-of-type {\n",
       "        vertical-align: middle;\n",
       "    }\n",
       "\n",
       "    .dataframe tbody tr th {\n",
       "        vertical-align: top;\n",
       "    }\n",
       "\n",
       "    .dataframe thead th {\n",
       "        text-align: right;\n",
       "    }\n",
       "</style>\n",
       "<table border=\"1\" class=\"dataframe\">\n",
       "  <thead>\n",
       "    <tr style=\"text-align: right;\">\n",
       "      <th></th>\n",
       "      <th>Tube Furnace1 OP</th>\n",
       "      <th>Tube Furnace2 OP</th>\n",
       "      <th>Tube Furnace4 OP</th>\n",
       "      <th>ST</th>\n",
       "    </tr>\n",
       "  </thead>\n",
       "  <tbody>\n",
       "    <tr>\n",
       "      <th>Tube Furnace1 OP</th>\n",
       "      <td>1.000000</td>\n",
       "      <td>0.035897</td>\n",
       "      <td>0.126542</td>\n",
       "      <td>0.022808</td>\n",
       "    </tr>\n",
       "    <tr>\n",
       "      <th>Tube Furnace2 OP</th>\n",
       "      <td>0.035897</td>\n",
       "      <td>1.000000</td>\n",
       "      <td>0.392610</td>\n",
       "      <td>0.045044</td>\n",
       "    </tr>\n",
       "    <tr>\n",
       "      <th>Tube Furnace4 OP</th>\n",
       "      <td>0.126542</td>\n",
       "      <td>0.392610</td>\n",
       "      <td>1.000000</td>\n",
       "      <td>0.025640</td>\n",
       "    </tr>\n",
       "    <tr>\n",
       "      <th>ST</th>\n",
       "      <td>0.022808</td>\n",
       "      <td>0.045044</td>\n",
       "      <td>0.025640</td>\n",
       "      <td>1.000000</td>\n",
       "    </tr>\n",
       "  </tbody>\n",
       "</table>\n",
       "</div>"
      ],
      "text/plain": [
       "                  Tube Furnace1 OP  Tube Furnace2 OP  Tube Furnace4 OP  \\\n",
       "Tube Furnace1 OP          1.000000          0.035897          0.126542   \n",
       "Tube Furnace2 OP          0.035897          1.000000          0.392610   \n",
       "Tube Furnace4 OP          0.126542          0.392610          1.000000   \n",
       "ST                        0.022808          0.045044          0.025640   \n",
       "\n",
       "                        ST  \n",
       "Tube Furnace1 OP  0.022808  \n",
       "Tube Furnace2 OP  0.045044  \n",
       "Tube Furnace4 OP  0.025640  \n",
       "ST                1.000000  "
      ]
     },
     "execution_count": 64,
     "metadata": {},
     "output_type": "execute_result"
    }
   ],
   "source": [
    "abs(df1[['Tube Furnace1 OP', 'Tube Furnace2 OP', 'Tube Furnace4 OP', 'ST']].corr())"
   ]
  },
  {
   "cell_type": "markdown",
   "id": "d29e1d24",
   "metadata": {},
   "source": [
    "5. 상관성이 가장 높은 2개의 인자를 선택해,Code_Num 별 두 변수의 평균/표준편차를 계산하시오."
   ]
  },
  {
   "cell_type": "code",
   "execution_count": 68,
   "id": "f00e2a4c",
   "metadata": {},
   "outputs": [
    {
     "data": {
      "text/html": [
       "<div>\n",
       "<style scoped>\n",
       "    .dataframe tbody tr th:only-of-type {\n",
       "        vertical-align: middle;\n",
       "    }\n",
       "\n",
       "    .dataframe tbody tr th {\n",
       "        vertical-align: top;\n",
       "    }\n",
       "\n",
       "    .dataframe thead tr th {\n",
       "        text-align: left;\n",
       "    }\n",
       "\n",
       "    .dataframe thead tr:last-of-type th {\n",
       "        text-align: right;\n",
       "    }\n",
       "</style>\n",
       "<table border=\"1\" class=\"dataframe\">\n",
       "  <thead>\n",
       "    <tr>\n",
       "      <th></th>\n",
       "      <th colspan=\"2\" halign=\"left\">mean</th>\n",
       "      <th colspan=\"2\" halign=\"left\">std</th>\n",
       "    </tr>\n",
       "    <tr>\n",
       "      <th></th>\n",
       "      <th>Tube Furnace2 OP</th>\n",
       "      <th>Tube Furnace4 OP</th>\n",
       "      <th>Tube Furnace2 OP</th>\n",
       "      <th>Tube Furnace4 OP</th>\n",
       "    </tr>\n",
       "    <tr>\n",
       "      <th>Code_Num</th>\n",
       "      <th></th>\n",
       "      <th></th>\n",
       "      <th></th>\n",
       "      <th></th>\n",
       "    </tr>\n",
       "  </thead>\n",
       "  <tbody>\n",
       "    <tr>\n",
       "      <th>GroupA</th>\n",
       "      <td>59.839226</td>\n",
       "      <td>70.749941</td>\n",
       "      <td>1.813115</td>\n",
       "      <td>2.524301</td>\n",
       "    </tr>\n",
       "    <tr>\n",
       "      <th>GroupB</th>\n",
       "      <td>59.686187</td>\n",
       "      <td>71.139630</td>\n",
       "      <td>1.953780</td>\n",
       "      <td>2.273685</td>\n",
       "    </tr>\n",
       "    <tr>\n",
       "      <th>GroupC</th>\n",
       "      <td>46.349296</td>\n",
       "      <td>67.630012</td>\n",
       "      <td>2.122369</td>\n",
       "      <td>2.148475</td>\n",
       "    </tr>\n",
       "    <tr>\n",
       "      <th>GroupD</th>\n",
       "      <td>46.530237</td>\n",
       "      <td>69.941883</td>\n",
       "      <td>1.606211</td>\n",
       "      <td>1.811230</td>\n",
       "    </tr>\n",
       "    <tr>\n",
       "      <th>GroupE</th>\n",
       "      <td>45.662729</td>\n",
       "      <td>70.271200</td>\n",
       "      <td>1.536403</td>\n",
       "      <td>2.714977</td>\n",
       "    </tr>\n",
       "    <tr>\n",
       "      <th>GroupF</th>\n",
       "      <td>45.857227</td>\n",
       "      <td>68.927763</td>\n",
       "      <td>2.215573</td>\n",
       "      <td>1.498486</td>\n",
       "    </tr>\n",
       "  </tbody>\n",
       "</table>\n",
       "</div>"
      ],
      "text/plain": [
       "                     mean                               std                 \n",
       "         Tube Furnace2 OP Tube Furnace4 OP Tube Furnace2 OP Tube Furnace4 OP\n",
       "Code_Num                                                                    \n",
       "GroupA          59.839226        70.749941         1.813115         2.524301\n",
       "GroupB          59.686187        71.139630         1.953780         2.273685\n",
       "GroupC          46.349296        67.630012         2.122369         2.148475\n",
       "GroupD          46.530237        69.941883         1.606211         1.811230\n",
       "GroupE          45.662729        70.271200         1.536403         2.714977\n",
       "GroupF          45.857227        68.927763         2.215573         1.498486"
      ]
     },
     "execution_count": 68,
     "metadata": {},
     "output_type": "execute_result"
    }
   ],
   "source": [
    "# 상관성이 가장 높은 2개의 인자 = Tube Furnace4 OP 와 Tube Furnace2 OP\n",
    "\n",
    "df1.pivot_table(index= 'Code_Num', values= [\"Tube Furnace4 OP\",\"Tube Furnace2 OP\"], aggfunc= ['mean','std'] )"
   ]
  },
  {
   "cell_type": "code",
   "execution_count": null,
   "id": "92810189",
   "metadata": {},
   "outputs": [],
   "source": []
  }
 ],
 "metadata": {
  "kernelspec": {
   "display_name": "Python 3 (ipykernel)",
   "language": "python",
   "name": "python3"
  },
  "language_info": {
   "codemirror_mode": {
    "name": "ipython",
    "version": 3
   },
   "file_extension": ".py",
   "mimetype": "text/x-python",
   "name": "python",
   "nbconvert_exporter": "python",
   "pygments_lexer": "ipython3",
   "version": "3.9.18"
  }
 },
 "nbformat": 4,
 "nbformat_minor": 5
}
