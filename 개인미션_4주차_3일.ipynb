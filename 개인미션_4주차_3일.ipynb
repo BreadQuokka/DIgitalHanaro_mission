{
 "cells": [
  {
   "cell_type": "markdown",
   "id": "2f312dac",
   "metadata": {},
   "source": [
    "- 16_Data.csv와 15_Data.csv 데이터를 결합해 아래와 같이 분석을 수행합니다. ( 두 데이터는 어느 한 정형외과에서 나온 척추 환자 디스크 수술 데이터)\n",
    "- 15_Data.csv : 수술 후에 측정한 환자의 건강 상태 / 수술 실패여부 / 재발여부 데이터\n",
    "- 16_Data.csv : 수술 이전에 환자로 부터 수집된 환자 신체정보 데이터\n",
    "\n",
    "1. 15_Data.csv데이터와 16_Data.csv데이터를 가져와 \"환자ID\"를 기준으로 병합하여, df1 으로 선언하시오.\n",
    "2. 환자 '성별'에 따라 '통증기간(월)', '헤모글로빈수치'의 평균의 차이가 있는지 검정 하시오.\n",
    "3. 환자의 '신장'과 '체중'을 이용해 'BMI'수치를 계산하시오.\n",
    "4. 환자의 '흡연여부'와 관련 있는 질병을 확인하고자 한다. '간질성폐질환', '고혈압여부', '당뇨여부', '말초동맥질환여부', '빈혈여부', '신부전여부','암발병여부','우울증여부', '종양진행여부', '혈전합병증여부' 항목들 중, 흡연 여부에 대해 유의미한 차이가 있는 질병을 가설 검정을 통해 찾으시오.\n",
    "5. 환자의 '직업'중 가장 많은 직업은 어떤 직업이며, 해당 직업 군의 남/여 성비를 확인하시오.\n",
    "6. 수술에 성공했으나, 재발한 환자들의 특성을 살펴보고자 한다. 해당 환자들의 평균연령과 평균 BMI, 남/여 성비의 비율과 직업군의 빈도수를 확인하시오.\n",
    "7. 통증기간과 환자의 통증정도의 상관성이 있는지 가설검정을 수행하여 확인하고, 상관계수를 확인하시오.\n",
    "8. 환자의 신장과 체중을 입력했을 때, BMI수치를 계산하고, 해당 연령대의 환자들의 성별에 따른 평균 헤모글로빈수치, 평균 환자통증정도를 시각화하여 출력하는 함수를 생성하시오.\n",
    "9. 과거에 수술했던 환자들의 특성을 파악하고자 한다. 해당 환자들의 직업군과 성별의 빈도수를 확인하고, 해당 환자들 중 BMI수치가 높은 상위 5명의 환자 명단을 출력하여 recurs_patient.xlsx로 저장하시오.\n",
    "10. 수술실패여부를 목표변수로 환자의 기본 특성을 입력했을 때, 해당 환자가 수술을 실패할 지/ 하지 않을지 분류모델을 만들고자 한다. 아래의 조건을 이용해 분류모델을 생성하시오.\n",
    "- X값에는 환자의 기본 정보(신체적 정보 + 직업)와 질병력이 포함되어야 합니다.\n",
    "- Y값은 \"수술실패여부\"\n",
    "- DecisionTree Classifier를 이용해 학습을 수행하세요.\n",
    "- 특성 공학 기법은 자유롭게 적용하여 모델을 구성해 주세요.\n",
    "- **단 학습 데이터의 과적합이 발생하면 안되며, 학습 성능 F1 Score 기준 40%이상 나와야 합니다.\n",
    "-** 학습한 모델은 model_medical.sav로 저장해 주세요."
   ]
  },
  {
   "cell_type": "raw",
   "id": "32e85b54",
   "metadata": {},
   "source": [
    "### 차집합으로 뽑는법 공부하기"
   ]
  },
  {
   "cell_type": "code",
   "execution_count": 1,
   "id": "0ed52ea6",
   "metadata": {},
   "outputs": [],
   "source": [
    "%config Completer.use_jedi = False\n",
    "import pandas as pd\n",
    "a=pd.read_csv(r\"C:\\Users\\hanjw\\Desktop\\python\\실습파일\\15_Data.csv\")\n",
    "b=pd.read_csv(r\"C:\\Users\\hanjw\\Desktop\\python\\실습파일\\16_Data.csv\")"
   ]
  },
  {
   "cell_type": "code",
   "execution_count": 2,
   "id": "9530ebbb",
   "metadata": {},
   "outputs": [],
   "source": [
    "item = list(set(b.columns) - set(a.columns))\n",
    "item.append(\"환자ID\")\n",
    "\n",
    "df1=pd.merge(a,b[item],on='환자ID')"
   ]
  },
  {
   "cell_type": "markdown",
   "id": "e3ff2b3b",
   "metadata": {},
   "source": [
    "2. 환자 '성별'에 따라 '통증기간(월)', '헤모글로빈수치'의 평균의 차이가 있는지 검정 하시오."
   ]
  },
  {
   "cell_type": "code",
   "execution_count": 29,
   "id": "1590f268",
   "metadata": {},
   "outputs": [],
   "source": [
    "# 전체에서 드롭나를 하지 말것. "
   ]
  },
  {
   "cell_type": "code",
   "execution_count": 3,
   "id": "5702b833",
   "metadata": {},
   "outputs": [
    {
     "name": "stdout",
     "output_type": "stream",
     "text": [
      "NormaltestResult(statistic=1973.5186287263045, pvalue=0.0)\n",
      "NormaltestResult(statistic=824.3852918801933, pvalue=9.705287099600454e-180)\n"
     ]
    },
    {
     "data": {
      "text/plain": [
       "RanksumsResult(statistic=-2.8632608163010476, pvalue=0.004193052551353649)"
      ]
     },
     "execution_count": 3,
     "metadata": {},
     "output_type": "execute_result"
    }
   ],
   "source": [
    "import scipy.stats as stats\n",
    "xx=df1[df1['성별']==1]['통증기간(월)'].dropna()\n",
    "xy=df1[df1['성별']==2]['통증기간(월)'].dropna()\n",
    "print(stats.normaltest(xx))\n",
    "print(stats.normaltest(xy))# 정규성 안따름\n",
    "\n",
    "stats.ranksums(xx,xy)# 중앙값이 같지 않다"
   ]
  },
  {
   "cell_type": "markdown",
   "id": "3f18c5cc",
   "metadata": {},
   "source": [
    "3. 환자의 '신장'과 '체중'을 이용해 'BMI'수치를 계산하시오.(체중(kg) / [신장(m)]2)"
   ]
  },
  {
   "cell_type": "code",
   "execution_count": 4,
   "id": "e457cce6",
   "metadata": {},
   "outputs": [
    {
     "data": {
      "text/html": [
       "<div>\n",
       "<style scoped>\n",
       "    .dataframe tbody tr th:only-of-type {\n",
       "        vertical-align: middle;\n",
       "    }\n",
       "\n",
       "    .dataframe tbody tr th {\n",
       "        vertical-align: top;\n",
       "    }\n",
       "\n",
       "    .dataframe thead th {\n",
       "        text-align: right;\n",
       "    }\n",
       "</style>\n",
       "<table border=\"1\" class=\"dataframe\">\n",
       "  <thead>\n",
       "    <tr style=\"text-align: right;\">\n",
       "      <th></th>\n",
       "      <th>Column 1</th>\n",
       "      <th>환자ID</th>\n",
       "      <th>수술기법</th>\n",
       "      <th>수술시간</th>\n",
       "      <th>수술실패여부</th>\n",
       "      <th>신장</th>\n",
       "      <th>연령</th>\n",
       "      <th>재발여부</th>\n",
       "      <th>체중</th>\n",
       "      <th>헤모글로빈수치</th>\n",
       "      <th>...</th>\n",
       "      <th>신부전여부</th>\n",
       "      <th>흡연여부</th>\n",
       "      <th>성별</th>\n",
       "      <th>고혈압여부</th>\n",
       "      <th>암발병여부</th>\n",
       "      <th>과거수술횟수</th>\n",
       "      <th>간질성폐질환</th>\n",
       "      <th>우울증여부</th>\n",
       "      <th>말초동맥질환여부</th>\n",
       "      <th>BMI수치</th>\n",
       "    </tr>\n",
       "  </thead>\n",
       "  <tbody>\n",
       "    <tr>\n",
       "      <th>0</th>\n",
       "      <td>989</td>\n",
       "      <td>990PT</td>\n",
       "      <td>TELD</td>\n",
       "      <td>50.0</td>\n",
       "      <td>0</td>\n",
       "      <td>171</td>\n",
       "      <td>37</td>\n",
       "      <td>0</td>\n",
       "      <td>68.0</td>\n",
       "      <td>15.10</td>\n",
       "      <td>...</td>\n",
       "      <td>0</td>\n",
       "      <td>0</td>\n",
       "      <td>1</td>\n",
       "      <td>0</td>\n",
       "      <td>0</td>\n",
       "      <td>1</td>\n",
       "      <td>0</td>\n",
       "      <td>0</td>\n",
       "      <td>0</td>\n",
       "      <td>23.255019</td>\n",
       "    </tr>\n",
       "    <tr>\n",
       "      <th>1</th>\n",
       "      <td>1019</td>\n",
       "      <td>1020PT</td>\n",
       "      <td>TELD</td>\n",
       "      <td>55.0</td>\n",
       "      <td>0</td>\n",
       "      <td>162</td>\n",
       "      <td>27</td>\n",
       "      <td>0</td>\n",
       "      <td>57.0</td>\n",
       "      <td>13.10</td>\n",
       "      <td>...</td>\n",
       "      <td>0</td>\n",
       "      <td>0</td>\n",
       "      <td>2</td>\n",
       "      <td>0</td>\n",
       "      <td>0</td>\n",
       "      <td>0</td>\n",
       "      <td>0</td>\n",
       "      <td>0</td>\n",
       "      <td>0</td>\n",
       "      <td>21.719250</td>\n",
       "    </tr>\n",
       "    <tr>\n",
       "      <th>2</th>\n",
       "      <td>971</td>\n",
       "      <td>972PT</td>\n",
       "      <td>TELD</td>\n",
       "      <td>55.0</td>\n",
       "      <td>0</td>\n",
       "      <td>170</td>\n",
       "      <td>35</td>\n",
       "      <td>0</td>\n",
       "      <td>62.0</td>\n",
       "      <td>16.50</td>\n",
       "      <td>...</td>\n",
       "      <td>0</td>\n",
       "      <td>0</td>\n",
       "      <td>1</td>\n",
       "      <td>0</td>\n",
       "      <td>0</td>\n",
       "      <td>0</td>\n",
       "      <td>0</td>\n",
       "      <td>0</td>\n",
       "      <td>0</td>\n",
       "      <td>21.453287</td>\n",
       "    </tr>\n",
       "    <tr>\n",
       "      <th>3</th>\n",
       "      <td>1051</td>\n",
       "      <td>1052PT</td>\n",
       "      <td>TELD</td>\n",
       "      <td>30.0</td>\n",
       "      <td>0</td>\n",
       "      <td>174</td>\n",
       "      <td>34</td>\n",
       "      <td>0</td>\n",
       "      <td>75.0</td>\n",
       "      <td>15.10</td>\n",
       "      <td>...</td>\n",
       "      <td>0</td>\n",
       "      <td>1</td>\n",
       "      <td>1</td>\n",
       "      <td>0</td>\n",
       "      <td>0</td>\n",
       "      <td>0</td>\n",
       "      <td>0</td>\n",
       "      <td>0</td>\n",
       "      <td>0</td>\n",
       "      <td>24.772097</td>\n",
       "    </tr>\n",
       "    <tr>\n",
       "      <th>4</th>\n",
       "      <td>1050</td>\n",
       "      <td>1051PT</td>\n",
       "      <td>TELD</td>\n",
       "      <td>45.0</td>\n",
       "      <td>0</td>\n",
       "      <td>147</td>\n",
       "      <td>62</td>\n",
       "      <td>0</td>\n",
       "      <td>53.0</td>\n",
       "      <td>11.40</td>\n",
       "      <td>...</td>\n",
       "      <td>0</td>\n",
       "      <td>0</td>\n",
       "      <td>2</td>\n",
       "      <td>1</td>\n",
       "      <td>0</td>\n",
       "      <td>0</td>\n",
       "      <td>0</td>\n",
       "      <td>0</td>\n",
       "      <td>0</td>\n",
       "      <td>24.526818</td>\n",
       "    </tr>\n",
       "    <tr>\n",
       "      <th>...</th>\n",
       "      <td>...</td>\n",
       "      <td>...</td>\n",
       "      <td>...</td>\n",
       "      <td>...</td>\n",
       "      <td>...</td>\n",
       "      <td>...</td>\n",
       "      <td>...</td>\n",
       "      <td>...</td>\n",
       "      <td>...</td>\n",
       "      <td>...</td>\n",
       "      <td>...</td>\n",
       "      <td>...</td>\n",
       "      <td>...</td>\n",
       "      <td>...</td>\n",
       "      <td>...</td>\n",
       "      <td>...</td>\n",
       "      <td>...</td>\n",
       "      <td>...</td>\n",
       "      <td>...</td>\n",
       "      <td>...</td>\n",
       "      <td>...</td>\n",
       "    </tr>\n",
       "    <tr>\n",
       "      <th>1889</th>\n",
       "      <td>678</td>\n",
       "      <td>679PT</td>\n",
       "      <td>TELD</td>\n",
       "      <td>51.0</td>\n",
       "      <td>0</td>\n",
       "      <td>177</td>\n",
       "      <td>47</td>\n",
       "      <td>0</td>\n",
       "      <td>73.0</td>\n",
       "      <td>15.14</td>\n",
       "      <td>...</td>\n",
       "      <td>1</td>\n",
       "      <td>1</td>\n",
       "      <td>1</td>\n",
       "      <td>0</td>\n",
       "      <td>0</td>\n",
       "      <td>0</td>\n",
       "      <td>0</td>\n",
       "      <td>0</td>\n",
       "      <td>0</td>\n",
       "      <td>23.301095</td>\n",
       "    </tr>\n",
       "    <tr>\n",
       "      <th>1890</th>\n",
       "      <td>679</td>\n",
       "      <td>680PT</td>\n",
       "      <td>TELD</td>\n",
       "      <td>69.0</td>\n",
       "      <td>0</td>\n",
       "      <td>160</td>\n",
       "      <td>39</td>\n",
       "      <td>0</td>\n",
       "      <td>70.0</td>\n",
       "      <td>11.54</td>\n",
       "      <td>...</td>\n",
       "      <td>0</td>\n",
       "      <td>0</td>\n",
       "      <td>2</td>\n",
       "      <td>0</td>\n",
       "      <td>0</td>\n",
       "      <td>0</td>\n",
       "      <td>0</td>\n",
       "      <td>0</td>\n",
       "      <td>0</td>\n",
       "      <td>27.343750</td>\n",
       "    </tr>\n",
       "    <tr>\n",
       "      <th>1891</th>\n",
       "      <td>914</td>\n",
       "      <td>915PT</td>\n",
       "      <td>TELD</td>\n",
       "      <td>79.0</td>\n",
       "      <td>0</td>\n",
       "      <td>177</td>\n",
       "      <td>38</td>\n",
       "      <td>1</td>\n",
       "      <td>86.0</td>\n",
       "      <td>13.17</td>\n",
       "      <td>...</td>\n",
       "      <td>0</td>\n",
       "      <td>1</td>\n",
       "      <td>1</td>\n",
       "      <td>0</td>\n",
       "      <td>0</td>\n",
       "      <td>0</td>\n",
       "      <td>0</td>\n",
       "      <td>1</td>\n",
       "      <td>0</td>\n",
       "      <td>27.450605</td>\n",
       "    </tr>\n",
       "    <tr>\n",
       "      <th>1892</th>\n",
       "      <td>380</td>\n",
       "      <td>381PT</td>\n",
       "      <td>IELD</td>\n",
       "      <td>35.0</td>\n",
       "      <td>0</td>\n",
       "      <td>174</td>\n",
       "      <td>26</td>\n",
       "      <td>0</td>\n",
       "      <td>74.2</td>\n",
       "      <td>16.97</td>\n",
       "      <td>...</td>\n",
       "      <td>0</td>\n",
       "      <td>0</td>\n",
       "      <td>1</td>\n",
       "      <td>0</td>\n",
       "      <td>0</td>\n",
       "      <td>0</td>\n",
       "      <td>0</td>\n",
       "      <td>0</td>\n",
       "      <td>0</td>\n",
       "      <td>24.507861</td>\n",
       "    </tr>\n",
       "    <tr>\n",
       "      <th>1893</th>\n",
       "      <td>180</td>\n",
       "      <td>181PT</td>\n",
       "      <td>TELD</td>\n",
       "      <td>50.0</td>\n",
       "      <td>0</td>\n",
       "      <td>182</td>\n",
       "      <td>22</td>\n",
       "      <td>0</td>\n",
       "      <td>80.4</td>\n",
       "      <td>16.71</td>\n",
       "      <td>...</td>\n",
       "      <td>0</td>\n",
       "      <td>0</td>\n",
       "      <td>1</td>\n",
       "      <td>0</td>\n",
       "      <td>0</td>\n",
       "      <td>0</td>\n",
       "      <td>0</td>\n",
       "      <td>0</td>\n",
       "      <td>0</td>\n",
       "      <td>24.272431</td>\n",
       "    </tr>\n",
       "  </tbody>\n",
       "</table>\n",
       "<p>1894 rows × 38 columns</p>\n",
       "</div>"
      ],
      "text/plain": [
       "      Column 1    환자ID  수술기법  수술시간  수술실패여부   신장  연령  재발여부    체중  헤모글로빈수치  ...  \\\n",
       "0          989   990PT  TELD  50.0       0  171  37     0  68.0    15.10  ...   \n",
       "1         1019  1020PT  TELD  55.0       0  162  27     0  57.0    13.10  ...   \n",
       "2          971   972PT  TELD  55.0       0  170  35     0  62.0    16.50  ...   \n",
       "3         1051  1052PT  TELD  30.0       0  174  34     0  75.0    15.10  ...   \n",
       "4         1050  1051PT  TELD  45.0       0  147  62     0  53.0    11.40  ...   \n",
       "...        ...     ...   ...   ...     ...  ...  ..   ...   ...      ...  ...   \n",
       "1889       678   679PT  TELD  51.0       0  177  47     0  73.0    15.14  ...   \n",
       "1890       679   680PT  TELD  69.0       0  160  39     0  70.0    11.54  ...   \n",
       "1891       914   915PT  TELD  79.0       0  177  38     1  86.0    13.17  ...   \n",
       "1892       380   381PT  IELD  35.0       0  174  26     0  74.2    16.97  ...   \n",
       "1893       180   181PT  TELD  50.0       0  182  22     0  80.4    16.71  ...   \n",
       "\n",
       "      신부전여부  흡연여부 성별 고혈압여부 암발병여부 과거수술횟수  간질성폐질환 우울증여부  말초동맥질환여부      BMI수치  \n",
       "0         0     0  1     0     0      1       0     0         0  23.255019  \n",
       "1         0     0  2     0     0      0       0     0         0  21.719250  \n",
       "2         0     0  1     0     0      0       0     0         0  21.453287  \n",
       "3         0     1  1     0     0      0       0     0         0  24.772097  \n",
       "4         0     0  2     1     0      0       0     0         0  24.526818  \n",
       "...     ...   ... ..   ...   ...    ...     ...   ...       ...        ...  \n",
       "1889      1     1  1     0     0      0       0     0         0  23.301095  \n",
       "1890      0     0  2     0     0      0       0     0         0  27.343750  \n",
       "1891      0     1  1     0     0      0       0     1         0  27.450605  \n",
       "1892      0     0  1     0     0      0       0     0         0  24.507861  \n",
       "1893      0     0  1     0     0      0       0     0         0  24.272431  \n",
       "\n",
       "[1894 rows x 38 columns]"
      ]
     },
     "execution_count": 4,
     "metadata": {},
     "output_type": "execute_result"
    }
   ],
   "source": [
    "df1['BMI수치']=df1['체중']/((df1['신장']/100)**2)\n",
    "df1"
   ]
  },
  {
   "cell_type": "markdown",
   "id": "25bcb266",
   "metadata": {},
   "source": [
    "4. 환자의 '흡연여부'와 관련 있는 질병을 확인하고자 한다. '간질성폐질환', '고혈압여부', '당뇨여부', '말초동맥질환여부', '빈혈여부', '신부전여부','암발병여부','우울증여부', '종양진행여부', '혈전합병증여부' 항목들 중, 흡연 여부에 대해 유의미한 차이가 있는 질병을 가설 검정을 통해 찾으시오."
   ]
  },
  {
   "cell_type": "code",
   "execution_count": 5,
   "id": "f5c19ad8",
   "metadata": {},
   "outputs": [
    {
     "data": {
      "text/plain": [
       "1.0"
      ]
     },
     "execution_count": 5,
     "metadata": {},
     "output_type": "execute_result"
    }
   ],
   "source": [
    "p1= pd.crosstab(index= df1['흡연여부'], columns= df1['간질성폐질환'])\n",
    "a, p, n, table=stats.chi2_contingency(p1)\n",
    "p"
   ]
  },
  {
   "cell_type": "code",
   "execution_count": 7,
   "id": "414aea27",
   "metadata": {},
   "outputs": [],
   "source": [
    "box= [ '간질성폐질환', '고혈압여부', '당뇨여부', '말초동맥질환여부', '빈혈여부', '신부전여부','암발병여부',\n",
    "      '우울증여부', '종양진행여부', '혈전합병증여부' ]\n",
    "box2=[]\n",
    "for i in box:\n",
    "    p1= pd.crosstab(index= df1['흡연여부'], columns= df1[i])\n",
    "    a, p, n, table=stats.chi2_contingency(p1)\n",
    "    if p<0.05:\n",
    "        box2.append(i)\n"
   ]
  },
  {
   "cell_type": "code",
   "execution_count": 8,
   "id": "e2489ee4",
   "metadata": {},
   "outputs": [
    {
     "data": {
      "text/plain": [
       "['빈혈여부']"
      ]
     },
     "execution_count": 8,
     "metadata": {},
     "output_type": "execute_result"
    }
   ],
   "source": [
    "box2 # 흡연 여부에 대해 유의미한 차이가 있는 질병"
   ]
  },
  {
   "cell_type": "markdown",
   "id": "2cbe9179",
   "metadata": {},
   "source": [
    "5. 환자의 '직업'중 가장 많은 직업은 어떤 직업이며, 해당 직업 군의 남/여 성비를 확인하시오."
   ]
  },
  {
   "cell_type": "code",
   "execution_count": 9,
   "id": "127a2f3d",
   "metadata": {},
   "outputs": [
    {
     "data": {
      "text/plain": [
       "사무직    449\n",
       "Name: 직업, dtype: int64"
      ]
     },
     "execution_count": 9,
     "metadata": {},
     "output_type": "execute_result"
    }
   ],
   "source": [
    "df1['직업'].value_counts().sort_values(ascending= False).head(1)"
   ]
  },
  {
   "cell_type": "code",
   "execution_count": 10,
   "id": "c8ab6a3a",
   "metadata": {},
   "outputs": [],
   "source": [
    "a=df1[df1['직업']=='사무직']"
   ]
  },
  {
   "cell_type": "code",
   "execution_count": 11,
   "id": "bc4b5663",
   "metadata": {},
   "outputs": [
    {
     "data": {
      "text/html": [
       "<div>\n",
       "<style scoped>\n",
       "    .dataframe tbody tr th:only-of-type {\n",
       "        vertical-align: middle;\n",
       "    }\n",
       "\n",
       "    .dataframe tbody tr th {\n",
       "        vertical-align: top;\n",
       "    }\n",
       "\n",
       "    .dataframe thead th {\n",
       "        text-align: right;\n",
       "    }\n",
       "</style>\n",
       "<table border=\"1\" class=\"dataframe\">\n",
       "  <thead>\n",
       "    <tr style=\"text-align: right;\">\n",
       "      <th>col_0</th>\n",
       "      <th>성별</th>\n",
       "    </tr>\n",
       "    <tr>\n",
       "      <th>성별</th>\n",
       "      <th></th>\n",
       "    </tr>\n",
       "  </thead>\n",
       "  <tbody>\n",
       "    <tr>\n",
       "      <th>1</th>\n",
       "      <td>0.641425</td>\n",
       "    </tr>\n",
       "    <tr>\n",
       "      <th>2</th>\n",
       "      <td>0.358575</td>\n",
       "    </tr>\n",
       "  </tbody>\n",
       "</table>\n",
       "</div>"
      ],
      "text/plain": [
       "col_0        성별\n",
       "성별             \n",
       "1      0.641425\n",
       "2      0.358575"
      ]
     },
     "execution_count": 11,
     "metadata": {},
     "output_type": "execute_result"
    }
   ],
   "source": [
    "pd.crosstab(index=a['성별'], columns= '성별', normalize = True)"
   ]
  },
  {
   "cell_type": "markdown",
   "id": "6d71189b",
   "metadata": {},
   "source": [
    "6.수술에 성공했으나, 재발한 환자들의 특성을 살펴보고자 한다. 해당 환자들의 평균연령과 평균 BMI, 남/여 성비의 비율과 직업군의 빈도수를 확인하시오."
   ]
  },
  {
   "cell_type": "code",
   "execution_count": 12,
   "id": "f7c758a1",
   "metadata": {},
   "outputs": [
    {
     "name": "stdout",
     "output_type": "stream",
     "text": [
      "평균연령: 43.72558139534884\n",
      "평균BMI: 25.349856224344197\n"
     ]
    }
   ],
   "source": [
    "new =df1[(df1['수술실패여부']==0) & (df1['재발여부']==1)]\n",
    "print(f\"평균연령: {new['연령'].mean()}\") # 평균연령\n",
    "print(f\"평균BMI: {new['BMI수치'].mean()}\") # 평균BMI"
   ]
  },
  {
   "cell_type": "code",
   "execution_count": 13,
   "id": "bba264f0",
   "metadata": {},
   "outputs": [
    {
     "data": {
      "text/html": [
       "<div>\n",
       "<style scoped>\n",
       "    .dataframe tbody tr th:only-of-type {\n",
       "        vertical-align: middle;\n",
       "    }\n",
       "\n",
       "    .dataframe tbody tr th {\n",
       "        vertical-align: top;\n",
       "    }\n",
       "\n",
       "    .dataframe thead th {\n",
       "        text-align: right;\n",
       "    }\n",
       "</style>\n",
       "<table border=\"1\" class=\"dataframe\">\n",
       "  <thead>\n",
       "    <tr style=\"text-align: right;\">\n",
       "      <th>col_0</th>\n",
       "      <th>성별</th>\n",
       "    </tr>\n",
       "    <tr>\n",
       "      <th>성별</th>\n",
       "      <th></th>\n",
       "    </tr>\n",
       "  </thead>\n",
       "  <tbody>\n",
       "    <tr>\n",
       "      <th>1</th>\n",
       "      <td>0.67907</td>\n",
       "    </tr>\n",
       "    <tr>\n",
       "      <th>2</th>\n",
       "      <td>0.32093</td>\n",
       "    </tr>\n",
       "  </tbody>\n",
       "</table>\n",
       "</div>"
      ],
      "text/plain": [
       "col_0       성별\n",
       "성별            \n",
       "1      0.67907\n",
       "2      0.32093"
      ]
     },
     "execution_count": 13,
     "metadata": {},
     "output_type": "execute_result"
    }
   ],
   "source": [
    "pd.crosstab(index=new['성별'],columns= \"성별\", normalize= True)"
   ]
  },
  {
   "cell_type": "code",
   "execution_count": 14,
   "id": "442b7a2f",
   "metadata": {},
   "outputs": [
    {
     "data": {
      "text/html": [
       "<div>\n",
       "<style scoped>\n",
       "    .dataframe tbody tr th:only-of-type {\n",
       "        vertical-align: middle;\n",
       "    }\n",
       "\n",
       "    .dataframe tbody tr th {\n",
       "        vertical-align: top;\n",
       "    }\n",
       "\n",
       "    .dataframe thead th {\n",
       "        text-align: right;\n",
       "    }\n",
       "</style>\n",
       "<table border=\"1\" class=\"dataframe\">\n",
       "  <thead>\n",
       "    <tr style=\"text-align: right;\">\n",
       "      <th>col_0</th>\n",
       "      <th>직업</th>\n",
       "    </tr>\n",
       "    <tr>\n",
       "      <th>직업</th>\n",
       "      <th></th>\n",
       "    </tr>\n",
       "  </thead>\n",
       "  <tbody>\n",
       "    <tr>\n",
       "      <th>건설업</th>\n",
       "      <td>4</td>\n",
       "    </tr>\n",
       "    <tr>\n",
       "      <th>공무원</th>\n",
       "      <td>8</td>\n",
       "    </tr>\n",
       "    <tr>\n",
       "      <th>교사</th>\n",
       "      <td>6</td>\n",
       "    </tr>\n",
       "    <tr>\n",
       "      <th>군인</th>\n",
       "      <td>3</td>\n",
       "    </tr>\n",
       "    <tr>\n",
       "      <th>노동직</th>\n",
       "      <td>5</td>\n",
       "    </tr>\n",
       "    <tr>\n",
       "      <th>농업</th>\n",
       "      <td>4</td>\n",
       "    </tr>\n",
       "    <tr>\n",
       "      <th>무직</th>\n",
       "      <td>19</td>\n",
       "    </tr>\n",
       "    <tr>\n",
       "      <th>사무직</th>\n",
       "      <td>57</td>\n",
       "    </tr>\n",
       "    <tr>\n",
       "      <th>사업가</th>\n",
       "      <td>5</td>\n",
       "    </tr>\n",
       "    <tr>\n",
       "      <th>운동선수</th>\n",
       "      <td>3</td>\n",
       "    </tr>\n",
       "    <tr>\n",
       "      <th>운수업</th>\n",
       "      <td>3</td>\n",
       "    </tr>\n",
       "    <tr>\n",
       "      <th>의료직</th>\n",
       "      <td>6</td>\n",
       "    </tr>\n",
       "    <tr>\n",
       "      <th>자영업</th>\n",
       "      <td>27</td>\n",
       "    </tr>\n",
       "    <tr>\n",
       "      <th>주부</th>\n",
       "      <td>9</td>\n",
       "    </tr>\n",
       "    <tr>\n",
       "      <th>특수전문직</th>\n",
       "      <td>1</td>\n",
       "    </tr>\n",
       "    <tr>\n",
       "      <th>학생</th>\n",
       "      <td>7</td>\n",
       "    </tr>\n",
       "  </tbody>\n",
       "</table>\n",
       "</div>"
      ],
      "text/plain": [
       "col_0  직업\n",
       "직업       \n",
       "건설업     4\n",
       "공무원     8\n",
       "교사      6\n",
       "군인      3\n",
       "노동직     5\n",
       "농업      4\n",
       "무직     19\n",
       "사무직    57\n",
       "사업가     5\n",
       "운동선수    3\n",
       "운수업     3\n",
       "의료직     6\n",
       "자영업    27\n",
       "주부      9\n",
       "특수전문직   1\n",
       "학생      7"
      ]
     },
     "execution_count": 14,
     "metadata": {},
     "output_type": "execute_result"
    }
   ],
   "source": [
    "pd.crosstab(index=new['직업'],columns= \"직업\")"
   ]
  },
  {
   "cell_type": "markdown",
   "id": "bc4a7ef5",
   "metadata": {},
   "source": [
    "7. 통증기간과 환자의 통증정도의 상관성이 있는지 가설검정을 수행하여 확인하고, 상관계수를 확인하시오.7. "
   ]
  },
  {
   "cell_type": "code",
   "execution_count": 15,
   "id": "00f431e8",
   "metadata": {},
   "outputs": [
    {
     "data": {
      "text/plain": [
       "SignificanceResult(statistic=-0.010676647938840402, pvalue=0.6427450957438059)"
      ]
     },
     "execution_count": 15,
     "metadata": {},
     "output_type": "execute_result"
    }
   ],
   "source": [
    "sample=df1[['통증기간(월)','환자통증정도']].dropna()\n",
    "A = sample['통증기간(월)']\n",
    "B = sample['환자통증정도']\n",
    "stats.normaltest(A)\n",
    "stats.normaltest(B) #정규성을 따르지 않으므로 스피어만\n",
    "\n",
    "stats.spearmanr(A,B)\n",
    "\n",
    "#통증기간과 환자의 통증정도의 상관성이 없다"
   ]
  },
  {
   "cell_type": "markdown",
   "id": "375921e7",
   "metadata": {},
   "source": [
    "8. 환자의 신장과 체중을 입력했을 때, BMI수치를 계산하고, 해당 연령대의 환자들의 성별에 따른 평균 헤모글로빈수치, 평균 환자통증정도를 시각화하여 출력하는 함수를 생성하시오."
   ]
  },
  {
   "cell_type": "code",
   "execution_count": 17,
   "id": "be9491c8",
   "metadata": {},
   "outputs": [],
   "source": [
    "def age (x):\n",
    "    if x//10<1:\n",
    "        return \"어린이\"\n",
    "    else:\n",
    "        return f\"{x//10}0대\"\n",
    "    \n",
    "df1['연령대']=df1['연령'].apply(age)\n"
   ]
  },
  {
   "cell_type": "code",
   "execution_count": 18,
   "id": "ec7df98f",
   "metadata": {},
   "outputs": [
    {
     "data": {
      "image/png": "[encoded data removed]",
      "text/plain": [
       "<Figure size 640x480 with 1 Axes>"
      ]
     },
     "metadata": {},
     "output_type": "display_data"
    }
   ],
   "source": [
    "import seaborn as sns\n",
    "import koreanize_matplotlib\n",
    "import matplotlib.pyplot as plt\n",
    "import seaborn as sns\n",
    "import koreanize_matplotlib\n",
    "df1['연령대']=df1['연령'].apply(age)\n",
    "\n",
    "\n",
    "new= df1.pivot_table(index= \"성별\", values= [\"헤모글로빈수치\",'환자통증정도'], aggfunc=\"mean\").reset_index()\n",
    "M=pd.melt(new, id_vars=\"성별\")\n",
    "sns.barplot(data=M, x= \"성별\", y=\"value\", hue = 'variable')\n",
    "plt.show()"
   ]
  },
  {
   "cell_type": "code",
   "execution_count": 19,
   "id": "2758080e",
   "metadata": {},
   "outputs": [],
   "source": [
    "import matplotlib.pyplot as plt\n",
    "import seaborn as sns\n",
    "import koreanize_matplotlib\n",
    "\n",
    "\n",
    "def func (x, y, z):\n",
    "    bmi=y / ((x/100)**2)\n",
    "    if x//10<1:\n",
    "        a= \"어린이\"\n",
    "    else:\n",
    "        a= f\"{z//10}0대\"\n",
    "    Age=df1[df1['연령대']==a]\n",
    "    new= Age.pivot_table(index= \"성별\", values= [\"헤모글로빈수치\",'환자통증정도'], aggfunc=\"mean\")\n",
    "    M=pd.melt(new, id_vars=\"성별\")\n",
    "    sns.barplot(data=M, x= \"성별\", y=\"value\", hue = 'variable')\n",
    "    \n",
    "func( 160, 45, 25)"
   ]
  },
  {
   "cell_type": "code",
   "execution_count": 31,
   "id": "8ef6a70b",
   "metadata": {},
   "outputs": [
    {
     "data": {
      "image/png": "[encoded data removed]",
      "text/plain": [
       "<Figure size 640x480 with 1 Axes>"
      ]
     },
     "metadata": {},
     "output_type": "display_data"
    }
   ],
   "source": [
    "def func (x, y, z):\n",
    "    bmi=y / ((x/100)**2)\n",
    "    if z//10<1:\n",
    "        a= \"어린이\"\n",
    "    else:\n",
    "        a= f\"{z//10}0대\"\n",
    "    Age=df1[df1['연령대']==a]\n",
    "    new2= Age.pivot_table(index= \"성별\", values= [\"헤모글로빈수치\",'환자통증정도'], aggfunc=\"mean\").reset_index()\n",
    "    M=pd.melt(new, id_vars=\"성별\")\n",
    "    sns.barplot(data=M, x= \"성별\", y=\"value\", hue = 'variable')\n",
    "    \n",
    "\n",
    "func(160,48,25)\n",
    "\n"
   ]
  },
  {
   "cell_type": "markdown",
   "id": "cb9a843f",
   "metadata": {},
   "source": [
    "9. 과거에 수술했던 환자들의 특성을 파악하고자 한다. 해당 환자들의 직업군과 성별의 빈도수를 확인하고, 해당 환자들 중 BMI수치가 높은 상위 5명의 환자 명단을 출력하여 recurs_patient.xlsx로 저장하시오."
   ]
  },
  {
   "cell_type": "code",
   "execution_count": 214,
   "id": "bcbcd29a",
   "metadata": {},
   "outputs": [
    {
     "name": "stdout",
     "output_type": "stream",
     "text": [
      "사무직      93\n",
      "자영업      47\n",
      "무직       40\n",
      "주부       20\n",
      "공무원      19\n",
      "학생       15\n",
      "운수업      11\n",
      "군인       11\n",
      "사업가       9\n",
      "농업        8\n",
      "노동직       7\n",
      "의료직       7\n",
      "특수전문직     5\n",
      "교사        5\n",
      "건설업       3\n",
      "운동선수      2\n",
      "예술가       1\n",
      "Name: 직업, dtype: int64\n",
      "1    254\n",
      "2    141\n",
      "Name: 성별, dtype: int64\n"
     ]
    }
   ],
   "source": [
    "print(df1[df1['과거수술횟수']>=1]['직업'].value_counts())\n",
    "print(df1[df1['과거수술횟수']>=1]['성별'].value_counts())"
   ]
  },
  {
   "cell_type": "code",
   "execution_count": 215,
   "id": "eee5bc53",
   "metadata": {},
   "outputs": [],
   "source": [
    "a= df1[df1['과거수술횟수']>=1]\n",
    "inx= a[\"BMI수치\"].sort_values(ascending= False).head().index"
   ]
  },
  {
   "cell_type": "code",
   "execution_count": 216,
   "id": "46f02de4",
   "metadata": {},
   "outputs": [
    {
     "data": {
      "text/plain": [
       "Int64Index([831, 759, 786, 233, 462], dtype='int64')"
      ]
     },
     "execution_count": 216,
     "metadata": {},
     "output_type": "execute_result"
    }
   ],
   "source": [
    "inx"
   ]
  },
  {
   "cell_type": "code",
   "execution_count": 217,
   "id": "df2c32de",
   "metadata": {},
   "outputs": [],
   "source": [
    "df1.iloc[inx,:].to_excel(\"recurs_patient.xlsx\")"
   ]
  },
  {
   "cell_type": "markdown",
   "id": "a846b8e6",
   "metadata": {},
   "source": [
    "10. 수술실패여부를 목표변수로 환자의 기본 특성을 입력했을 때, 해당 환자가 수술을 실패할 지/ 하지 않을지 분류모델을 만들고자 한다. 아래의 조건을 이용해 분류모델을 생성하시오.\n",
    "\n",
    "X값에는 환자의 기본 정보(신체적 정보 + 직업)와 질병력이 포함되어야 합니다.\n",
    "Y값은 \"수술실패여부\"\n",
    "DecisionTree Classifier를 이용해 학습을 수행하세요.\n",
    "특성 공학 기법은 자유롭게 적용하여 모델을 구성해 주세요.\n",
    "**단 학습 데이터의 과적합이 발생하면 안되며, 학습 성능 F1 Score 기준 40%이상 나와야 합니다.\n",
    "** 학습한 모델은 model_medical.sav로 저장해 주세요."
   ]
  },
  {
   "cell_type": "code",
   "execution_count": 218,
   "id": "df58d6be",
   "metadata": {},
   "outputs": [
    {
     "data": {
      "text/plain": [
       "Index(['Column 1', '환자ID', '수술기법', '수술시간', '수술실패여부', '신장', '연령', '재발여부', '체중',\n",
       "       '헤모글로빈수치', '환자통증정도', '통증기간(월)', '혈액형', '수술일', '입원일', '퇴원일', '고혈압여부',\n",
       "       '빈혈여부', '흡연여부', '직업', '신부전여부', '종양진행여부', '당뇨여부', '성별', '과거수술횟수', '입원기간',\n",
       "       '심혈관질환', '말초동맥질환여부', 'ODI', 'Large Lymphocyte',\n",
       "       'Location of herniation', '가족력', '스테로이드치료', '우울증여부', '혈전합병증여부', '암발병여부',\n",
       "       '간질성폐질환', 'BMI수치'],\n",
       "      dtype='object')"
      ]
     },
     "execution_count": 218,
     "metadata": {},
     "output_type": "execute_result"
    }
   ],
   "source": [
    "df1.columns"
   ]
  },
  {
   "cell_type": "code",
   "execution_count": 35,
   "id": "5b586671",
   "metadata": {},
   "outputs": [
    {
     "name": "stdout",
     "output_type": "stream",
     "text": [
      "              precision    recall  f1-score   support\n",
      "\n",
      "           0       0.83      0.42      0.55       341\n",
      "           1       0.63      0.92      0.75       371\n",
      "\n",
      "    accuracy                           0.68       712\n",
      "   macro avg       0.73      0.67      0.65       712\n",
      "weighted avg       0.72      0.68      0.66       712\n",
      "\n"
     ]
    }
   ],
   "source": [
    "from sklearn.model_selection import train_test_split\n",
    "from imblearn.over_sampling import RandomOverSampler\n",
    "from sklearn.tree import DecisionTreeClassifier\n",
    "from sklearn.metrics import classification_report\n",
    "sampling_model = RandomOverSampler()\n",
    "\n",
    "X= df1[['신장', '연령', '재발여부', '체중','헤모글로빈수치','혈액형','고혈압여부', '심혈관질환', '말초동맥질환여부','가족력',\n",
    "    '스테로이드치료', '우울증여부', '혈전합병증여부', '암발병여부','간질성폐질환', 'BMI수치']]\n",
    "Y= df1['수술실패여부']\n",
    "\n",
    "X = pd.get_dummies(X)\n",
    "\n",
    "X_resample, Y_resample = sampling_model.fit_resample(X, Y)\n",
    "\n",
    "\n",
    "train_x, test_x, train_y, test_y = train_test_split(X_resample, Y_resample, test_size = 0.2)\n",
    "\n",
    "dt = DecisionTreeClassifier(max_depth= 5)\n",
    "dt.fit(train_x, train_y)\n",
    "pred = dt.predict(test_x)\n",
    "report = classification_report(test_y, pred)\n",
    "print(report)"
   ]
  },
  {
   "cell_type": "code",
   "execution_count": 36,
   "id": "7b14613c",
   "metadata": {},
   "outputs": [
    {
     "data": {
      "text/plain": [
       "0.6830639494026705"
      ]
     },
     "execution_count": 36,
     "metadata": {},
     "output_type": "execute_result"
    }
   ],
   "source": [
    "dt.score(train_x, train_y)"
   ]
  },
  {
   "cell_type": "code",
   "execution_count": 49,
   "id": "312f3ff1",
   "metadata": {},
   "outputs": [
    {
     "data": {
      "text/plain": [
       "0.6783707865168539"
      ]
     },
     "execution_count": 49,
     "metadata": {},
     "output_type": "execute_result"
    }
   ],
   "source": [
    "dt.score(test_x, test_y)"
   ]
  },
  {
   "cell_type": "code",
   "execution_count": null,
   "id": "c2b27500",
   "metadata": {},
   "outputs": [],
   "source": []
  }
 ],
 "metadata": {
  "kernelspec": {
   "display_name": "Python 3 (ipykernel)",
   "language": "python",
   "name": "python3"
  },
  "language_info": {
   "codemirror_mode": {
    "name": "ipython",
    "version": 3
   },
   "file_extension": ".py",
   "mimetype": "text/x-python",
   "name": "python",
   "nbconvert_exporter": "python",
   "pygments_lexer": "ipython3",
   "version": "3.9.18"
  }
 },
 "nbformat": 4,
 "nbformat_minor": 5
}
