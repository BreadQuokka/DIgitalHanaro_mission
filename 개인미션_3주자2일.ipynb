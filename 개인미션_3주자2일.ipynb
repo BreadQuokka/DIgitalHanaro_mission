{
 "cells": [
  {
   "cell_type": "markdown",
   "id": "b93899c8",
   "metadata": {},
   "source": [
    "1. 폴더 내 3개 데이터를 불러와 아래와 같이 변환 하시오.\n",
    "    - 기간은 파일 상단에 적힌 기간월을 작성\n",
    "    - Column 명 '합계'는 앞에 공백이 존재 ' 합계'\n",
    "    \n",
    "    ![Untitled](https://prod-files-secure.s3.us-west-2.amazonaws.com/2a570022-4b51-46a3-9808-27bbed895639/bc4354e5-33e3-4b69-9c6e-a56c5737156b/Untitled.png)\n",
    "    \n",
    "2. '지점' 중 '판매량'의 합이 가장 높은 2개 지점을 확인하시오.\n",
    "3. 앞서 확인한, 2개의 지점의 '판매량'에 대해 각각 정규성 검정을 수행하고, 결론을 작성하시오.\n",
    "4. 앞서 확인한, 2개의 지점의 '판매량'의 대표값(중앙값)의 차이를 계산하고자 한다. 가설을 수립하고, Rank Sum Test를 이용해 가설검정을 수행하시오 .\n",
    "5. '상품명'에 '마스크'와'휴지' 제품을 나누어 분석하고자 한다. 상품명을 '휴지'와 '마스크'로 분류한 뒤, (나머지는 '기타') '상품분류'라는 파생변수를 만들어, 두 상품의 '판매량'의 대표값의 차이를 가설 검정 하시오.\n",
    "6. 한 회사의 제품 불량률이 10%일 때, 30개의 제품을 검사했을 때 5개 이상의 불량품이 나올 확률을 계산하세요.\n",
    "7. 어느 고객센터에 하루 평균 3번의 문의가 온다고 할 때, 하루에 문의가 5번 이상 올 확률을 계산하세요.\n",
    "8. '01_Data.csv' 파일의 'Amount_Month' 데이터를 표준화하여 표준 정규 분포로 변환한 후, 그래프를 그리세요."
   ]
  },
  {
   "cell_type": "code",
   "execution_count": 29,
   "id": "b8c4b40b",
   "metadata": {},
   "outputs": [],
   "source": [
    "import pandas as pd\n",
    "box=[]\n",
    "for i in range(6,9):\n",
    "    a=pd.read_excel(fr\"C:\\Users\\hanjw\\Desktop\\python\\실습파일\\07_ERP1\\기간별상품매출현황_20230{i}.xlsx\", header=2)\n",
    "    box.append(a)\n",
    "df=pd.concat(box)\n"
   ]
  },
  {
   "cell_type": "code",
   "execution_count": 32,
   "id": "a9fc1458",
   "metadata": {},
   "outputs": [
    {
     "data": {
      "text/html": [
       "<div>\n",
       "<style scoped>\n",
       "    .dataframe tbody tr th:only-of-type {\n",
       "        vertical-align: middle;\n",
       "    }\n",
       "\n",
       "    .dataframe tbody tr th {\n",
       "        vertical-align: top;\n",
       "    }\n",
       "\n",
       "    .dataframe thead th {\n",
       "        text-align: right;\n",
       "    }\n",
       "</style>\n",
       "<table border=\"1\" class=\"dataframe\">\n",
       "  <thead>\n",
       "    <tr style=\"text-align: right;\">\n",
       "      <th></th>\n",
       "      <th>순번</th>\n",
       "      <th>상품코드</th>\n",
       "      <th>상품명</th>\n",
       "      <th>합계</th>\n",
       "      <th>지점</th>\n",
       "      <th>판매량</th>\n",
       "    </tr>\n",
       "  </thead>\n",
       "  <tbody>\n",
       "    <tr>\n",
       "      <th>2</th>\n",
       "      <td>1.0</td>\n",
       "      <td>1.801828e+06</td>\n",
       "      <td>자연숨결 식약처 허가 초미세먼지 마스크 대형 60매(KF94)</td>\n",
       "      <td>65402</td>\n",
       "      <td>(1154)의정부점</td>\n",
       "      <td>174</td>\n",
       "    </tr>\n",
       "    <tr>\n",
       "      <th>3</th>\n",
       "      <td>2.0</td>\n",
       "      <td>1.801859e+06</td>\n",
       "      <td>블루방역황사마스크 65매 KF94</td>\n",
       "      <td>1</td>\n",
       "      <td>(1154)의정부점</td>\n",
       "      <td>0</td>\n",
       "    </tr>\n",
       "    <tr>\n",
       "      <th>4</th>\n",
       "      <td>3.0</td>\n",
       "      <td>4.078618e+07</td>\n",
       "      <td>클린위즈 매직클리너 얼룩제거 세트</td>\n",
       "      <td>2158</td>\n",
       "      <td>(1154)의정부점</td>\n",
       "      <td>4</td>\n",
       "    </tr>\n",
       "    <tr>\n",
       "      <th>5</th>\n",
       "      <td>4.0</td>\n",
       "      <td>4.100136e+07</td>\n",
       "      <td>트루마리 순수휴지 30미터 90롤</td>\n",
       "      <td>3649</td>\n",
       "      <td>(1154)의정부점</td>\n",
       "      <td>14</td>\n",
       "    </tr>\n",
       "    <tr>\n",
       "      <th>6</th>\n",
       "      <td>5.0</td>\n",
       "      <td>8.800532e+07</td>\n",
       "      <td>자연숨결 식약처 허가 초미세먼지 마스크 대형30매 + 중형 30매(KF94)</td>\n",
       "      <td>1</td>\n",
       "      <td>(1154)의정부점</td>\n",
       "      <td>0</td>\n",
       "    </tr>\n",
       "    <tr>\n",
       "      <th>...</th>\n",
       "      <td>...</td>\n",
       "      <td>...</td>\n",
       "      <td>...</td>\n",
       "      <td>...</td>\n",
       "      <td>...</td>\n",
       "      <td>...</td>\n",
       "    </tr>\n",
       "    <tr>\n",
       "      <th>244027</th>\n",
       "      <td>126.0</td>\n",
       "      <td>8.801858e+12</td>\n",
       "      <td>[쨍하고해뜰집]제습제풀세트(다용도제습제30통+지시겔1봉)</td>\n",
       "      <td>653</td>\n",
       "      <td>(4548)NBFC칠곡석적점</td>\n",
       "      <td>0</td>\n",
       "    </tr>\n",
       "    <tr>\n",
       "      <th>244028</th>\n",
       "      <td>127.0</td>\n",
       "      <td>8.801858e+12</td>\n",
       "      <td>[리얼뽀송이]제습제세트</td>\n",
       "      <td>3233</td>\n",
       "      <td>(4548)NBFC칠곡석적점</td>\n",
       "      <td>0</td>\n",
       "    </tr>\n",
       "    <tr>\n",
       "      <th>244029</th>\n",
       "      <td>128.0</td>\n",
       "      <td>8.801858e+12</td>\n",
       "      <td>[미라클워터]다목적세정제17종괴물용량풀세트</td>\n",
       "      <td>8433</td>\n",
       "      <td>(4548)NBFC칠곡석적점</td>\n",
       "      <td>0</td>\n",
       "    </tr>\n",
       "    <tr>\n",
       "      <th>244030</th>\n",
       "      <td>129.0</td>\n",
       "      <td>8.801858e+12</td>\n",
       "      <td>[쨍하고해뜰집]지시겔1봉(20개)</td>\n",
       "      <td>135839</td>\n",
       "      <td>(4548)NBFC칠곡석적점</td>\n",
       "      <td>0</td>\n",
       "    </tr>\n",
       "    <tr>\n",
       "      <th>244031</th>\n",
       "      <td>130.0</td>\n",
       "      <td>8.801858e+12</td>\n",
       "      <td>[리얼뽀송이]제습제1팩(단품)</td>\n",
       "      <td>28631</td>\n",
       "      <td>(4548)NBFC칠곡석적점</td>\n",
       "      <td>0</td>\n",
       "    </tr>\n",
       "  </tbody>\n",
       "</table>\n",
       "<p>236998 rows × 6 columns</p>\n",
       "</div>"
      ],
      "text/plain": [
       "           순번          상품코드                                         상품명  \\\n",
       "2         1.0  1.801828e+06          자연숨결 식약처 허가 초미세먼지 마스크 대형 60매(KF94)   \n",
       "3         2.0  1.801859e+06                          블루방역황사마스크 65매 KF94   \n",
       "4         3.0  4.078618e+07                          클린위즈 매직클리너 얼룩제거 세트   \n",
       "5         4.0  4.100136e+07                          트루마리 순수휴지 30미터 90롤   \n",
       "6         5.0  8.800532e+07  자연숨결 식약처 허가 초미세먼지 마스크 대형30매 + 중형 30매(KF94)   \n",
       "...       ...           ...                                         ...   \n",
       "244027  126.0  8.801858e+12             [쨍하고해뜰집]제습제풀세트(다용도제습제30통+지시겔1봉)   \n",
       "244028  127.0  8.801858e+12                                [리얼뽀송이]제습제세트   \n",
       "244029  128.0  8.801858e+12                     [미라클워터]다목적세정제17종괴물용량풀세트   \n",
       "244030  129.0  8.801858e+12                          [쨍하고해뜰집]지시겔1봉(20개)   \n",
       "244031  130.0  8.801858e+12                            [리얼뽀송이]제습제1팩(단품)   \n",
       "\n",
       "            합계               지점  판매량  \n",
       "2        65402       (1154)의정부점  174  \n",
       "3            1       (1154)의정부점    0  \n",
       "4         2158       (1154)의정부점    4  \n",
       "5         3649       (1154)의정부점   14  \n",
       "6            1       (1154)의정부점    0  \n",
       "...        ...              ...  ...  \n",
       "244027     653  (4548)NBFC칠곡석적점    0  \n",
       "244028    3233  (4548)NBFC칠곡석적점    0  \n",
       "244029    8433  (4548)NBFC칠곡석적점    0  \n",
       "244030  135839  (4548)NBFC칠곡석적점    0  \n",
       "244031   28631  (4548)NBFC칠곡석적점    0  \n",
       "\n",
       "[236998 rows x 6 columns]"
      ]
     },
     "execution_count": 32,
     "metadata": {},
     "output_type": "execute_result"
    }
   ],
   "source": [
    "df2= pd.melt(df, id_vars= ['순번','상품코드','상품명',\" 합계\"],var_name='지점',\n",
    "        value_name= '판매량')\n",
    "df2=df2.dropna()\n",
    "df2=df2[['순번','상품코드','상품명',' 합계','지점','판매량']]## 순서 배치\n",
    "df2"
   ]
  },
  {
   "cell_type": "code",
   "execution_count": 33,
   "id": "d1278845",
   "metadata": {},
   "outputs": [],
   "source": [
    "df2=df2.dropna()\n",
    "df2['판매량']=df2['판매량'].astype(\"int\")"
   ]
  },
  {
   "cell_type": "markdown",
   "id": "a6b4a373",
   "metadata": {},
   "source": [
    "### 지점' 중 '판매량'의 합이 가장 높은 2개 지점을 확인하시오."
   ]
  },
  {
   "cell_type": "code",
   "execution_count": 38,
   "id": "9952f256",
   "metadata": {},
   "outputs": [
    {
     "data": {
      "text/html": [
       "<div>\n",
       "<style scoped>\n",
       "    .dataframe tbody tr th:only-of-type {\n",
       "        vertical-align: middle;\n",
       "    }\n",
       "\n",
       "    .dataframe tbody tr th {\n",
       "        vertical-align: top;\n",
       "    }\n",
       "\n",
       "    .dataframe thead th {\n",
       "        text-align: right;\n",
       "    }\n",
       "</style>\n",
       "<table border=\"1\" class=\"dataframe\">\n",
       "  <thead>\n",
       "    <tr style=\"text-align: right;\">\n",
       "      <th></th>\n",
       "      <th>판매량</th>\n",
       "    </tr>\n",
       "    <tr>\n",
       "      <th>지점</th>\n",
       "      <th></th>\n",
       "    </tr>\n",
       "  </thead>\n",
       "  <tbody>\n",
       "    <tr>\n",
       "      <th>(610)부천점</th>\n",
       "      <td>67612</td>\n",
       "    </tr>\n",
       "    <tr>\n",
       "      <th>(600)안양점</th>\n",
       "      <td>62987</td>\n",
       "    </tr>\n",
       "  </tbody>\n",
       "</table>\n",
       "</div>"
      ],
      "text/plain": [
       "            판매량\n",
       "지점             \n",
       "(610)부천점  67612\n",
       "(600)안양점  62987"
      ]
     },
     "execution_count": 38,
     "metadata": {},
     "output_type": "execute_result"
    }
   ],
   "source": [
    "df2.pivot_table(index= '지점', values= '판매량', aggfunc= 'sum').sort_values('판매량', ascending=False).head(2)"
   ]
  },
  {
   "cell_type": "markdown",
   "id": "fa78c611",
   "metadata": {},
   "source": [
    "### 앞서 확인한, 2개의 지점의 '판매량'에 대해 각각 정규성 검정을 수행하고, 결론을 작성하시오."
   ]
  },
  {
   "cell_type": "code",
   "execution_count": 45,
   "id": "aa89cb18",
   "metadata": {},
   "outputs": [
    {
     "data": {
      "text/plain": [
       "NormaltestResult(statistic=291.630042482356, pvalue=4.71347161815466e-64)"
      ]
     },
     "execution_count": 45,
     "metadata": {},
     "output_type": "execute_result"
    }
   ],
   "source": [
    "import numpy as np\n",
    "import seaborn as sns\n",
    "import matplotlib.pyplot as plt\n",
    "import scipy.stats as stats\n",
    "boocheon= df2[df2['지점']=='(610)부천점'][\"판매량\"]\n",
    "anyang= df2[df2['지점']=='(600)안양점'][\"판매량\"]\n",
    "stats.normaltest(boocheon)\n",
    "stats.normaltest(anyang)\n",
    "\n",
    "#부천, 안양 둘다 정규성을 따르지 않는다"
   ]
  },
  {
   "cell_type": "markdown",
   "id": "e8136c0f",
   "metadata": {},
   "source": [
    "### 앞서 확인한, 2개의 지점의 '판매량'의 대표값(중앙값)의 차이를 계산하고자 한다. 가설을 수립하고, Rank Sum Test를 이용해 가설검정을 수행하시오 ."
   ]
  },
  {
   "cell_type": "code",
   "execution_count": 46,
   "id": "833917f3",
   "metadata": {},
   "outputs": [
    {
     "data": {
      "text/plain": [
       "RanksumsResult(statistic=0.23404972309949237, pvalue=0.8149463770358858)"
      ]
     },
     "execution_count": 46,
     "metadata": {},
     "output_type": "execute_result"
    }
   ],
   "source": [
    "stats.ranksums(boocheon,anyang)\n",
    "#서로의 중앙값이 같다고 볼 수 있다\n"
   ]
  },
  {
   "cell_type": "markdown",
   "id": "fd240b25",
   "metadata": {},
   "source": [
    "### '상품명'에 '마스크'와'휴지' 제품을 나누어 분석하고자 한다. 상품명을 '휴지'와 '마스크'로 분류한 뒤, (나머지는 '기타') '상품분류'라는 파생변수를 만들어, 두 상품의 '판매량'의 대표값의 차이를 가설 검정 하시오."
   ]
  },
  {
   "cell_type": "code",
   "execution_count": 58,
   "id": "4a649a96",
   "metadata": {},
   "outputs": [
    {
     "data": {
      "text/plain": [
       "RanksumsResult(statistic=-14.193416467479825, pvalue=1.0063403187290814e-45)"
      ]
     },
     "execution_count": 58,
     "metadata": {},
     "output_type": "execute_result"
    }
   ],
   "source": [
    "def classy (x):\n",
    "    if \"휴지\" in x:\n",
    "        return \"휴지\"\n",
    "    elif \"마스크\" in x:\n",
    "        return \"마스크\"\n",
    "    else:\n",
    "        return \"기타\"\n",
    "df2['상품분류']=df2['상품명'].apply(classy)\n",
    "napkin= df2[df2['상품분류']=='휴지']['판매량']\n",
    "mask=df2[df2['상품분류']=='마스크']['판매량']\n",
    "\n",
    "stats.ranksums(napkin, mask)\n"
   ]
  },
  {
   "cell_type": "markdown",
   "id": "3aa78eb0",
   "metadata": {},
   "source": [
    "### 한 회사의 제품 불량률이 10%일 때, 30개의 제품을 검사했을 때 5개 이상의 불량품이 나올 확률을 계산하세요."
   ]
  },
  {
   "cell_type": "code",
   "execution_count": 61,
   "id": "ea19d5c9",
   "metadata": {},
   "outputs": [
    {
     "data": {
      "text/plain": [
       "0.17549487903389513"
      ]
     },
     "execution_count": 61,
     "metadata": {},
     "output_type": "execute_result"
    }
   ],
   "source": [
    "from scipy.special import comb\n",
    "box=0\n",
    "for n in range (5,31):\n",
    "    a= comb(30,n)*((0.1)**n) *((0.9)**(30-n))\n",
    "    box=box+a\n",
    "box"
   ]
  },
  {
   "cell_type": "markdown",
   "id": "e6dbd3e9",
   "metadata": {},
   "source": [
    "### 어느 고객센터에 하루 평균 3번의 문의가 온다고 할 때, 하루에 문의가 5번 이상 올 확률을 계산하세요."
   ]
  },
  {
   "cell_type": "code",
   "execution_count": 65,
   "id": "68187aec",
   "metadata": {},
   "outputs": [
    {
     "data": {
      "text/plain": [
       "0.18473675547622792"
      ]
     },
     "execution_count": 65,
     "metadata": {},
     "output_type": "execute_result"
    }
   ],
   "source": [
    "call= 3 #하루평균 call 수\n",
    "time = 1#기간\n",
    "target= 5\n",
    "box=0\n",
    "for n in range(0,5):\n",
    "    a=stats.poisson.pmf(n, call * time)\n",
    "    box+=a\n",
    "1-box"
   ]
  },
  {
   "cell_type": "markdown",
   "id": "aee1aef1",
   "metadata": {},
   "source": [
    "### '01_Data.csv' 파일의 'Amount_Month' 데이터를 표준화하여 표준 정규 분포로 변환한 후, 그래프를 그리세요."
   ]
  },
  {
   "cell_type": "code",
   "execution_count": 74,
   "id": "e8862679",
   "metadata": {},
   "outputs": [],
   "source": [
    "df3= pd.read_csv(r\"C:\\Users\\hanjw\\Desktop\\python\\실습파일\\01_Data.csv\")\n",
    "mean= df3[\"Amount_Month\"].mean()\n",
    "std=df3[\"Amount_Month\"].std()\n",
    "data= df3['Amount_Month']\n",
    "z= (data-data.mean())/data.std()"
   ]
  },
  {
   "cell_type": "code",
   "execution_count": 77,
   "id": "ffb99945",
   "metadata": {},
   "outputs": [
    {
     "data": {
      "text/plain": [
       "<AxesSubplot:xlabel='Amount_Month', ylabel='Count'>"
      ]
     },
     "execution_count": 77,
     "metadata": {},
     "output_type": "execute_result"
    },
    {
     "data": {
      "image/png": "[encoded data removed]",
      "text/plain": [
       "<Figure size 640x480 with 1 Axes>"
      ]
     },
     "metadata": {},
     "output_type": "display_data"
    }
   ],
   "source": [
    "sns.histplot(z,bins=100)"
   ]
  },
  {
   "cell_type": "code",
   "execution_count": null,
   "id": "0c972f7f",
   "metadata": {},
   "outputs": [],
   "source": []
  }
 ],
 "metadata": {
  "kernelspec": {
   "display_name": "Python 3 (ipykernel)",
   "language": "python",
   "name": "python3"
  },
  "language_info": {
   "codemirror_mode": {
    "name": "ipython",
    "version": 3
   },
   "file_extension": ".py",
   "mimetype": "text/x-python",
   "name": "python",
   "nbconvert_exporter": "python",
   "pygments_lexer": "ipython3",
   "version": "3.9.13"
  }
 },
 "nbformat": 4,
 "nbformat_minor": 5
}
