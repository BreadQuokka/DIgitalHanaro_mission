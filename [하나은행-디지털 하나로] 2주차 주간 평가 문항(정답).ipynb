{
 "cells": [
  {
   "cell_type": "markdown",
   "id": "447242ab",
   "metadata": {},
   "source": [
    "# [하나은행] 디지털 하나 데이터분석\n",
    "## 파이썬 기초 주간 평가2\n",
    "\n",
    "* 파일 이름을 ```이름_주간평가2``` 으로 수정하고 저장한 후, ipynb 파일로 제출해주세요.\n",
    "* 수업에서 진행했던 내용 및 교재는 참고하여 풀어 보세요.\n",
    "* 주간 평가문항 및 풀이는 개인 블로그 업로드나 외부에 공유를 금합니다. "
   ]
  },
  {
   "cell_type": "markdown",
   "id": "03aac07c",
   "metadata": {},
   "source": [
    "- 04_Data.csv 데이터를 이용해 데이터 분석을 수행하고자 한다. \n",
    "\n",
    "1. 04_Data.csv를 df1으로 선언하고 데이터의 Row개수를 확인하세요. (5점)"
   ]
  },
  {
   "cell_type": "code",
   "execution_count": 3,
   "id": "4547d2a9",
   "metadata": {},
   "outputs": [
    {
     "data": {
      "text/plain": [
       "10000"
      ]
     },
     "execution_count": 3,
     "metadata": {},
     "output_type": "execute_result"
    }
   ],
   "source": [
    "import pandas as pd\n",
    "\n",
    "df1 = pd.read_csv(\"04_Data.csv\")\n",
    "df1.shape[0]"
   ]
  },
  {
   "cell_type": "markdown",
   "id": "345f6701",
   "metadata": {},
   "source": [
    "2. df1 데이터의 '채널'항목의 빈도수를 확인하고, 빈도수가 가장 높은 채널의 '최종결제금액'의 합을 계산하시오. (5점)"
   ]
  },
  {
   "cell_type": "code",
   "execution_count": 12,
   "id": "17be44b1",
   "metadata": {},
   "outputs": [
    {
     "data": {
      "text/plain": [
       "채널\n",
       "facebook     6880\n",
       "others       1390\n",
       "naver        1009\n",
       "direct        297\n",
       "email         271\n",
       "google        120\n",
       "instagram      33\n",
       "Name: count, dtype: int64"
      ]
     },
     "execution_count": 12,
     "metadata": {},
     "output_type": "execute_result"
    }
   ],
   "source": [
    "df1['채널'].value_counts()"
   ]
  },
  {
   "cell_type": "code",
   "execution_count": 15,
   "id": "20bfe28c",
   "metadata": {},
   "outputs": [
    {
     "data": {
      "text/plain": [
       "825136460"
      ]
     },
     "execution_count": 15,
     "metadata": {},
     "output_type": "execute_result"
    }
   ],
   "source": [
    "df1[df1['채널']=='facebook']['최종결제금액'].sum()"
   ]
  },
  {
   "cell_type": "markdown",
   "id": "6ffc1690",
   "metadata": {},
   "source": [
    "3. '프로그램'에 따른 '채널' 별 '최종결제금액'의 합과 평균을 계산해, result.xlsx로 저장하시오. (5점)"
   ]
  },
  {
   "cell_type": "code",
   "execution_count": 17,
   "id": "d1877888",
   "metadata": {},
   "outputs": [
    {
     "data": {
      "text/html": [
       "<div>\n",
       "<style scoped>\n",
       "    .dataframe tbody tr th:only-of-type {\n",
       "        vertical-align: middle;\n",
       "    }\n",
       "\n",
       "    .dataframe tbody tr th {\n",
       "        vertical-align: top;\n",
       "    }\n",
       "\n",
       "    .dataframe thead tr th {\n",
       "        text-align: left;\n",
       "    }\n",
       "\n",
       "    .dataframe thead tr:last-of-type th {\n",
       "        text-align: right;\n",
       "    }\n",
       "</style>\n",
       "<table border=\"1\" class=\"dataframe\">\n",
       "  <thead>\n",
       "    <tr>\n",
       "      <th></th>\n",
       "      <th></th>\n",
       "      <th>sum</th>\n",
       "      <th>mean</th>\n",
       "    </tr>\n",
       "    <tr>\n",
       "      <th></th>\n",
       "      <th></th>\n",
       "      <th>최종결제금액</th>\n",
       "      <th>최종결제금액</th>\n",
       "    </tr>\n",
       "    <tr>\n",
       "      <th>프로그램</th>\n",
       "      <th>채널</th>\n",
       "      <th></th>\n",
       "      <th></th>\n",
       "    </tr>\n",
       "  </thead>\n",
       "  <tbody>\n",
       "    <tr>\n",
       "      <th rowspan=\"7\" valign=\"top\">체중감량 프로그램 (타입 A)</th>\n",
       "      <th>direct</th>\n",
       "      <td>21811700</td>\n",
       "      <td>112431.443299</td>\n",
       "    </tr>\n",
       "    <tr>\n",
       "      <th>email</th>\n",
       "      <td>28535300</td>\n",
       "      <td>113235.317460</td>\n",
       "    </tr>\n",
       "    <tr>\n",
       "      <th>facebook</th>\n",
       "      <td>591131500</td>\n",
       "      <td>123538.453501</td>\n",
       "    </tr>\n",
       "    <tr>\n",
       "      <th>google</th>\n",
       "      <td>7096000</td>\n",
       "      <td>114451.612903</td>\n",
       "    </tr>\n",
       "    <tr>\n",
       "      <th>instagram</th>\n",
       "      <td>1708500</td>\n",
       "      <td>113900.000000</td>\n",
       "    </tr>\n",
       "    <tr>\n",
       "      <th>naver</th>\n",
       "      <td>79900400</td>\n",
       "      <td>113333.900709</td>\n",
       "    </tr>\n",
       "    <tr>\n",
       "      <th>others</th>\n",
       "      <td>74863900</td>\n",
       "      <td>113602.276176</td>\n",
       "    </tr>\n",
       "    <tr>\n",
       "      <th rowspan=\"7\" valign=\"top\">체중감량 프로그램 (타입B)</th>\n",
       "      <th>direct</th>\n",
       "      <td>9525460</td>\n",
       "      <td>92480.194175</td>\n",
       "    </tr>\n",
       "    <tr>\n",
       "      <th>email</th>\n",
       "      <td>2119780</td>\n",
       "      <td>111567.368421</td>\n",
       "    </tr>\n",
       "    <tr>\n",
       "      <th>facebook</th>\n",
       "      <td>234004960</td>\n",
       "      <td>111696.878282</td>\n",
       "    </tr>\n",
       "    <tr>\n",
       "      <th>google</th>\n",
       "      <td>5567480</td>\n",
       "      <td>95991.034483</td>\n",
       "    </tr>\n",
       "    <tr>\n",
       "      <th>instagram</th>\n",
       "      <td>1854120</td>\n",
       "      <td>103006.666667</td>\n",
       "    </tr>\n",
       "    <tr>\n",
       "      <th>naver</th>\n",
       "      <td>31591350</td>\n",
       "      <td>103918.914474</td>\n",
       "    </tr>\n",
       "    <tr>\n",
       "      <th>others</th>\n",
       "      <td>74485790</td>\n",
       "      <td>101895.745554</td>\n",
       "    </tr>\n",
       "  </tbody>\n",
       "</table>\n",
       "</div>"
      ],
      "text/plain": [
       "                                  sum           mean\n",
       "                               최종결제금액         최종결제금액\n",
       "프로그램             채널                                 \n",
       "체중감량 프로그램 (타입 A) direct      21811700  112431.443299\n",
       "                 email       28535300  113235.317460\n",
       "                 facebook   591131500  123538.453501\n",
       "                 google       7096000  114451.612903\n",
       "                 instagram    1708500  113900.000000\n",
       "                 naver       79900400  113333.900709\n",
       "                 others      74863900  113602.276176\n",
       "체중감량 프로그램 (타입B)  direct       9525460   92480.194175\n",
       "                 email        2119780  111567.368421\n",
       "                 facebook   234004960  111696.878282\n",
       "                 google       5567480   95991.034483\n",
       "                 instagram    1854120  103006.666667\n",
       "                 naver       31591350  103918.914474\n",
       "                 others      74485790  101895.745554"
      ]
     },
     "execution_count": 17,
     "metadata": {},
     "output_type": "execute_result"
    }
   ],
   "source": [
    "a = df1.pivot_table(index = [\"프로그램\", \"채널\"], values = \"최종결제금액\",\n",
    "               aggfunc=[\"sum\", \"mean\"])\n",
    "a.to_excel(\"result.xlsx\")"
   ]
  },
  {
   "cell_type": "markdown",
   "id": "831904a0",
   "metadata": {},
   "source": [
    "4. '채널'을 입력했을 때, 해당 '채널'의 '상태'별 '프로그램가격'과 '보조식품가격'의 합을 계산해 '채널명_결제상태_가격.xlsx'로 저장하는 함수를 구성하시오. (10점)"
   ]
  },
  {
   "cell_type": "code",
   "execution_count": 21,
   "id": "0cbc6fb1",
   "metadata": {},
   "outputs": [],
   "source": [
    "def func(x):\n",
    "    c = x\n",
    "    a = df1[df1['채널']==c].pivot_table(index = \"상태\", values = ['프로그램가격', '보조식품가격'],\n",
    "                                 aggfunc=\"sum\")\n",
    "    a.to_excel(f\"{c}_결제상태_가격.xlsx\")"
   ]
  },
  {
   "cell_type": "markdown",
   "id": "59355556",
   "metadata": {},
   "source": [
    "5. '최종결제금액'을 이용해, 회원 등급을 부여하고자 한다. '최종결제금액'이 상위 30%에 해당하는 고객을 'VIP' 나머지 고객을 'Normal'로 계산하고, '고객등급'이라는 파생변수를 생성하시오. (15점)"
   ]
  },
  {
   "cell_type": "code",
   "execution_count": 24,
   "id": "3b14e3d5",
   "metadata": {},
   "outputs": [
    {
     "data": {
      "text/html": [
       "<div>\n",
       "<style scoped>\n",
       "    .dataframe tbody tr th:only-of-type {\n",
       "        vertical-align: middle;\n",
       "    }\n",
       "\n",
       "    .dataframe tbody tr th {\n",
       "        vertical-align: top;\n",
       "    }\n",
       "\n",
       "    .dataframe thead th {\n",
       "        text-align: right;\n",
       "    }\n",
       "</style>\n",
       "<table border=\"1\" class=\"dataframe\">\n",
       "  <thead>\n",
       "    <tr style=\"text-align: right;\">\n",
       "      <th></th>\n",
       "      <th>회원코드</th>\n",
       "      <th>프로그램</th>\n",
       "      <th>상태</th>\n",
       "      <th>프로그램가격</th>\n",
       "      <th>최종결제금액</th>\n",
       "      <th>결제시각</th>\n",
       "      <th>결제유형</th>\n",
       "      <th>채널</th>\n",
       "      <th>보조식품가격</th>\n",
       "      <th>보조식품(추가구매)</th>\n",
       "      <th>고객등급</th>\n",
       "    </tr>\n",
       "  </thead>\n",
       "  <tbody>\n",
       "    <tr>\n",
       "      <th>0</th>\n",
       "      <td>Y9RY2VSI</td>\n",
       "      <td>체중감량 프로그램 (타입B)</td>\n",
       "      <td>completed</td>\n",
       "      <td>112500</td>\n",
       "      <td>112500</td>\n",
       "      <td>2017-04-14 오후 7:03:29.976000</td>\n",
       "      <td>Recurring</td>\n",
       "      <td>others</td>\n",
       "      <td>0</td>\n",
       "      <td>구매안함</td>\n",
       "      <td>Normal</td>\n",
       "    </tr>\n",
       "    <tr>\n",
       "      <th>1</th>\n",
       "      <td>3GTN3S3B</td>\n",
       "      <td>체중감량 프로그램 (타입B)</td>\n",
       "      <td>completed</td>\n",
       "      <td>44780</td>\n",
       "      <td>44780</td>\n",
       "      <td>2017-05-23 오후 8:53:54.368000</td>\n",
       "      <td>Recurring</td>\n",
       "      <td>others</td>\n",
       "      <td>0</td>\n",
       "      <td>구매안함</td>\n",
       "      <td>Normal</td>\n",
       "    </tr>\n",
       "    <tr>\n",
       "      <th>2</th>\n",
       "      <td>6B0IG276</td>\n",
       "      <td>체중감량 프로그램 (타입 A)</td>\n",
       "      <td>completed</td>\n",
       "      <td>132000</td>\n",
       "      <td>149000</td>\n",
       "      <td>2017-08-23 오후 11:39:21.840000</td>\n",
       "      <td>Recurring</td>\n",
       "      <td>facebook</td>\n",
       "      <td>17000</td>\n",
       "      <td>식이요법보조제A</td>\n",
       "      <td>VIP</td>\n",
       "    </tr>\n",
       "    <tr>\n",
       "      <th>3</th>\n",
       "      <td>EMGRU2MO</td>\n",
       "      <td>체중감량 프로그램 (타입 A)</td>\n",
       "      <td>completed</td>\n",
       "      <td>112500</td>\n",
       "      <td>112500</td>\n",
       "      <td>2017-08-28 오후 8:18:22.824000</td>\n",
       "      <td>Recurring</td>\n",
       "      <td>naver</td>\n",
       "      <td>0</td>\n",
       "      <td>구매안함</td>\n",
       "      <td>Normal</td>\n",
       "    </tr>\n",
       "    <tr>\n",
       "      <th>4</th>\n",
       "      <td>1ELG96TX</td>\n",
       "      <td>체중감량 프로그램 (타입B)</td>\n",
       "      <td>completed</td>\n",
       "      <td>44780</td>\n",
       "      <td>44780</td>\n",
       "      <td>2017-05-07 오후 5:50:30.944000</td>\n",
       "      <td>Recurring</td>\n",
       "      <td>facebook</td>\n",
       "      <td>0</td>\n",
       "      <td>구매안함</td>\n",
       "      <td>Normal</td>\n",
       "    </tr>\n",
       "  </tbody>\n",
       "</table>\n",
       "</div>"
      ],
      "text/plain": [
       "       회원코드              프로그램         상태  프로그램가격  최종결제금액  \\\n",
       "0  Y9RY2VSI   체중감량 프로그램 (타입B)  completed  112500  112500   \n",
       "1  3GTN3S3B   체중감량 프로그램 (타입B)  completed   44780   44780   \n",
       "2  6B0IG276  체중감량 프로그램 (타입 A)  completed  132000  149000   \n",
       "3  EMGRU2MO  체중감량 프로그램 (타입 A)  completed  112500  112500   \n",
       "4  1ELG96TX   체중감량 프로그램 (타입B)  completed   44780   44780   \n",
       "\n",
       "                            결제시각       결제유형        채널  보조식품가격 보조식품(추가구매)  \\\n",
       "0   2017-04-14 오후 7:03:29.976000  Recurring    others       0       구매안함   \n",
       "1   2017-05-23 오후 8:53:54.368000  Recurring    others       0       구매안함   \n",
       "2  2017-08-23 오후 11:39:21.840000  Recurring  facebook   17000   식이요법보조제A   \n",
       "3   2017-08-28 오후 8:18:22.824000  Recurring     naver       0       구매안함   \n",
       "4   2017-05-07 오후 5:50:30.944000  Recurring  facebook       0       구매안함   \n",
       "\n",
       "     고객등급  \n",
       "0  Normal  \n",
       "1  Normal  \n",
       "2     VIP  \n",
       "3  Normal  \n",
       "4  Normal  "
      ]
     },
     "execution_count": 24,
     "metadata": {},
     "output_type": "execute_result"
    }
   ],
   "source": [
    "def func(x):\n",
    "    if x >= df1['최종결제금액'].quantile(0.7): # 중복값\n",
    "        return \"VIP\"\n",
    "    else:\n",
    "        return \"Normal\"\n",
    "    \n",
    "df1[\"고객등급\"] = df1['최종결제금액'].apply(func)\n",
    "df1.head()"
   ]
  },
  {
   "cell_type": "markdown",
   "id": "a7cae691",
   "metadata": {},
   "source": [
    "6. 앞서 만든 '고객 등급'에서 'VIP'고객들이 가장 많이 이용하는 '채널'을 확인하고, '채널'의 '최종결제금액'의 IQR(사분범위)를 계산하시오. (10점)"
   ]
  },
  {
   "cell_type": "code",
   "execution_count": 27,
   "id": "6f6a75bb",
   "metadata": {},
   "outputs": [
    {
     "data": {
      "text/plain": [
       "채널\n",
       "facebook     3653\n",
       "others        114\n",
       "naver          93\n",
       "direct         29\n",
       "email          24\n",
       "google          7\n",
       "instagram       5\n",
       "Name: count, dtype: int64"
      ]
     },
     "execution_count": 27,
     "metadata": {},
     "output_type": "execute_result"
    }
   ],
   "source": [
    "df1[df1['고객등급']==\"VIP\"]['채널'].value_counts()"
   ]
  },
  {
   "cell_type": "code",
   "execution_count": 31,
   "id": "49c22037",
   "metadata": {},
   "outputs": [
    {
     "data": {
      "text/plain": [
       "min    129500.0\n",
       "25%    129500.0\n",
       "50%    129500.0\n",
       "75%    133500.0\n",
       "max    210000.0\n",
       "Name: 최종결제금액, dtype: float64"
      ]
     },
     "execution_count": 31,
     "metadata": {},
     "output_type": "execute_result"
    }
   ],
   "source": [
    "a = df1[(df1['고객등급']==\"VIP\") & (df1['채널'] == 'facebook')]['최종결제금액'].describe()\n",
    "a.iloc[3:]"
   ]
  },
  {
   "cell_type": "code",
   "execution_count": 34,
   "id": "a4d25144",
   "metadata": {},
   "outputs": [
    {
     "data": {
      "text/plain": [
       "133560.72748425952"
      ]
     },
     "execution_count": 34,
     "metadata": {},
     "output_type": "execute_result"
    }
   ],
   "source": [
    "a.quantile(0.75)"
   ]
  },
  {
   "cell_type": "markdown",
   "id": "66224f18",
   "metadata": {},
   "source": [
    "7. '결제시각' 데이터에서 날짜에 해당하는 부분을 '결제날짜'로, '시간'에 해당하는 부분을 '결제시'라는 이름의 파생변수를 생성하시오. (15점)"
   ]
  },
  {
   "cell_type": "code",
   "execution_count": 41,
   "id": "323a283c",
   "metadata": {},
   "outputs": [
    {
     "data": {
      "text/html": [
       "<div>\n",
       "<style scoped>\n",
       "    .dataframe tbody tr th:only-of-type {\n",
       "        vertical-align: middle;\n",
       "    }\n",
       "\n",
       "    .dataframe tbody tr th {\n",
       "        vertical-align: top;\n",
       "    }\n",
       "\n",
       "    .dataframe thead th {\n",
       "        text-align: right;\n",
       "    }\n",
       "</style>\n",
       "<table border=\"1\" class=\"dataframe\">\n",
       "  <thead>\n",
       "    <tr style=\"text-align: right;\">\n",
       "      <th></th>\n",
       "      <th>회원코드</th>\n",
       "      <th>프로그램</th>\n",
       "      <th>상태</th>\n",
       "      <th>프로그램가격</th>\n",
       "      <th>최종결제금액</th>\n",
       "      <th>결제시각</th>\n",
       "      <th>결제유형</th>\n",
       "      <th>채널</th>\n",
       "      <th>보조식품가격</th>\n",
       "      <th>보조식품(추가구매)</th>\n",
       "      <th>고객등급</th>\n",
       "    </tr>\n",
       "  </thead>\n",
       "  <tbody>\n",
       "    <tr>\n",
       "      <th>0</th>\n",
       "      <td>Y9RY2VSI</td>\n",
       "      <td>체중감량 프로그램 (타입B)</td>\n",
       "      <td>completed</td>\n",
       "      <td>112500</td>\n",
       "      <td>112500</td>\n",
       "      <td>2017-04-14 19:03:29.976</td>\n",
       "      <td>Recurring</td>\n",
       "      <td>others</td>\n",
       "      <td>0</td>\n",
       "      <td>구매안함</td>\n",
       "      <td>Normal</td>\n",
       "    </tr>\n",
       "    <tr>\n",
       "      <th>1</th>\n",
       "      <td>3GTN3S3B</td>\n",
       "      <td>체중감량 프로그램 (타입B)</td>\n",
       "      <td>completed</td>\n",
       "      <td>44780</td>\n",
       "      <td>44780</td>\n",
       "      <td>2017-05-23 20:53:54.368</td>\n",
       "      <td>Recurring</td>\n",
       "      <td>others</td>\n",
       "      <td>0</td>\n",
       "      <td>구매안함</td>\n",
       "      <td>Normal</td>\n",
       "    </tr>\n",
       "    <tr>\n",
       "      <th>2</th>\n",
       "      <td>6B0IG276</td>\n",
       "      <td>체중감량 프로그램 (타입 A)</td>\n",
       "      <td>completed</td>\n",
       "      <td>132000</td>\n",
       "      <td>149000</td>\n",
       "      <td>2017-08-23 23:39:21.840</td>\n",
       "      <td>Recurring</td>\n",
       "      <td>facebook</td>\n",
       "      <td>17000</td>\n",
       "      <td>식이요법보조제A</td>\n",
       "      <td>VIP</td>\n",
       "    </tr>\n",
       "    <tr>\n",
       "      <th>3</th>\n",
       "      <td>EMGRU2MO</td>\n",
       "      <td>체중감량 프로그램 (타입 A)</td>\n",
       "      <td>completed</td>\n",
       "      <td>112500</td>\n",
       "      <td>112500</td>\n",
       "      <td>2017-08-28 20:18:22.824</td>\n",
       "      <td>Recurring</td>\n",
       "      <td>naver</td>\n",
       "      <td>0</td>\n",
       "      <td>구매안함</td>\n",
       "      <td>Normal</td>\n",
       "    </tr>\n",
       "    <tr>\n",
       "      <th>4</th>\n",
       "      <td>1ELG96TX</td>\n",
       "      <td>체중감량 프로그램 (타입B)</td>\n",
       "      <td>completed</td>\n",
       "      <td>44780</td>\n",
       "      <td>44780</td>\n",
       "      <td>2017-05-07 17:50:30.944</td>\n",
       "      <td>Recurring</td>\n",
       "      <td>facebook</td>\n",
       "      <td>0</td>\n",
       "      <td>구매안함</td>\n",
       "      <td>Normal</td>\n",
       "    </tr>\n",
       "  </tbody>\n",
       "</table>\n",
       "</div>"
      ],
      "text/plain": [
       "       회원코드              프로그램         상태  프로그램가격  최종결제금액  \\\n",
       "0  Y9RY2VSI   체중감량 프로그램 (타입B)  completed  112500  112500   \n",
       "1  3GTN3S3B   체중감량 프로그램 (타입B)  completed   44780   44780   \n",
       "2  6B0IG276  체중감량 프로그램 (타입 A)  completed  132000  149000   \n",
       "3  EMGRU2MO  체중감량 프로그램 (타입 A)  completed  112500  112500   \n",
       "4  1ELG96TX   체중감량 프로그램 (타입B)  completed   44780   44780   \n",
       "\n",
       "                     결제시각       결제유형        채널  보조식품가격 보조식품(추가구매)    고객등급  \n",
       "0 2017-04-14 19:03:29.976  Recurring    others       0       구매안함  Normal  \n",
       "1 2017-05-23 20:53:54.368  Recurring    others       0       구매안함  Normal  \n",
       "2 2017-08-23 23:39:21.840  Recurring  facebook   17000   식이요법보조제A     VIP  \n",
       "3 2017-08-28 20:18:22.824  Recurring     naver       0       구매안함  Normal  \n",
       "4 2017-05-07 17:50:30.944  Recurring  facebook       0       구매안함  Normal  "
      ]
     },
     "execution_count": 41,
     "metadata": {},
     "output_type": "execute_result"
    }
   ],
   "source": [
    "a = df1['결제시각'].str.replace(\"오후\", \"PM\").str.replace(\"오전\", \"AM\")\n",
    "df1['결제시각'] = pd.to_datetime(a, format = \"%Y-%m-%d %p %I:%M:%S.%f\")\n",
    "df1.head()"
   ]
  },
  {
   "cell_type": "code",
   "execution_count": 42,
   "id": "86b34f4a",
   "metadata": {},
   "outputs": [],
   "source": [
    "df1['년'] = df1['결제시각'].dt.year\n",
    "df1['월'] = df1['결제시각'].dt.month\n",
    "df1['일'] = df1['결제시각'].dt.day\n",
    "df1['결제(시)'] = df1['결제시각'].dt.hour"
   ]
  },
  {
   "cell_type": "code",
   "execution_count": 50,
   "id": "d632b9a5",
   "metadata": {},
   "outputs": [
    {
     "data": {
      "text/html": [
       "<div>\n",
       "<style scoped>\n",
       "    .dataframe tbody tr th:only-of-type {\n",
       "        vertical-align: middle;\n",
       "    }\n",
       "\n",
       "    .dataframe tbody tr th {\n",
       "        vertical-align: top;\n",
       "    }\n",
       "\n",
       "    .dataframe thead th {\n",
       "        text-align: right;\n",
       "    }\n",
       "</style>\n",
       "<table border=\"1\" class=\"dataframe\">\n",
       "  <thead>\n",
       "    <tr style=\"text-align: right;\">\n",
       "      <th></th>\n",
       "      <th>회원코드</th>\n",
       "      <th>프로그램</th>\n",
       "      <th>상태</th>\n",
       "      <th>프로그램가격</th>\n",
       "      <th>최종결제금액</th>\n",
       "      <th>결제시각</th>\n",
       "      <th>결제유형</th>\n",
       "      <th>채널</th>\n",
       "      <th>보조식품가격</th>\n",
       "      <th>보조식품(추가구매)</th>\n",
       "      <th>고객등급</th>\n",
       "      <th>년</th>\n",
       "      <th>월</th>\n",
       "      <th>일</th>\n",
       "      <th>결제(시)</th>\n",
       "      <th>결제날짜</th>\n",
       "    </tr>\n",
       "  </thead>\n",
       "  <tbody>\n",
       "    <tr>\n",
       "      <th>0</th>\n",
       "      <td>Y9RY2VSI</td>\n",
       "      <td>체중감량 프로그램 (타입B)</td>\n",
       "      <td>completed</td>\n",
       "      <td>112500</td>\n",
       "      <td>112500</td>\n",
       "      <td>2017-04-14 19:03:29.976</td>\n",
       "      <td>Recurring</td>\n",
       "      <td>others</td>\n",
       "      <td>0</td>\n",
       "      <td>구매안함</td>\n",
       "      <td>Normal</td>\n",
       "      <td>2017</td>\n",
       "      <td>4</td>\n",
       "      <td>14</td>\n",
       "      <td>19</td>\n",
       "      <td>2017-04-14</td>\n",
       "    </tr>\n",
       "    <tr>\n",
       "      <th>1</th>\n",
       "      <td>3GTN3S3B</td>\n",
       "      <td>체중감량 프로그램 (타입B)</td>\n",
       "      <td>completed</td>\n",
       "      <td>44780</td>\n",
       "      <td>44780</td>\n",
       "      <td>2017-05-23 20:53:54.368</td>\n",
       "      <td>Recurring</td>\n",
       "      <td>others</td>\n",
       "      <td>0</td>\n",
       "      <td>구매안함</td>\n",
       "      <td>Normal</td>\n",
       "      <td>2017</td>\n",
       "      <td>5</td>\n",
       "      <td>23</td>\n",
       "      <td>20</td>\n",
       "      <td>2017-05-23</td>\n",
       "    </tr>\n",
       "    <tr>\n",
       "      <th>2</th>\n",
       "      <td>6B0IG276</td>\n",
       "      <td>체중감량 프로그램 (타입 A)</td>\n",
       "      <td>completed</td>\n",
       "      <td>132000</td>\n",
       "      <td>149000</td>\n",
       "      <td>2017-08-23 23:39:21.840</td>\n",
       "      <td>Recurring</td>\n",
       "      <td>facebook</td>\n",
       "      <td>17000</td>\n",
       "      <td>식이요법보조제A</td>\n",
       "      <td>VIP</td>\n",
       "      <td>2017</td>\n",
       "      <td>8</td>\n",
       "      <td>23</td>\n",
       "      <td>23</td>\n",
       "      <td>2017-08-23</td>\n",
       "    </tr>\n",
       "    <tr>\n",
       "      <th>3</th>\n",
       "      <td>EMGRU2MO</td>\n",
       "      <td>체중감량 프로그램 (타입 A)</td>\n",
       "      <td>completed</td>\n",
       "      <td>112500</td>\n",
       "      <td>112500</td>\n",
       "      <td>2017-08-28 20:18:22.824</td>\n",
       "      <td>Recurring</td>\n",
       "      <td>naver</td>\n",
       "      <td>0</td>\n",
       "      <td>구매안함</td>\n",
       "      <td>Normal</td>\n",
       "      <td>2017</td>\n",
       "      <td>8</td>\n",
       "      <td>28</td>\n",
       "      <td>20</td>\n",
       "      <td>2017-08-28</td>\n",
       "    </tr>\n",
       "    <tr>\n",
       "      <th>4</th>\n",
       "      <td>1ELG96TX</td>\n",
       "      <td>체중감량 프로그램 (타입B)</td>\n",
       "      <td>completed</td>\n",
       "      <td>44780</td>\n",
       "      <td>44780</td>\n",
       "      <td>2017-05-07 17:50:30.944</td>\n",
       "      <td>Recurring</td>\n",
       "      <td>facebook</td>\n",
       "      <td>0</td>\n",
       "      <td>구매안함</td>\n",
       "      <td>Normal</td>\n",
       "      <td>2017</td>\n",
       "      <td>5</td>\n",
       "      <td>7</td>\n",
       "      <td>17</td>\n",
       "      <td>2017-05-07</td>\n",
       "    </tr>\n",
       "  </tbody>\n",
       "</table>\n",
       "</div>"
      ],
      "text/plain": [
       "       회원코드              프로그램         상태  프로그램가격  최종결제금액  \\\n",
       "0  Y9RY2VSI   체중감량 프로그램 (타입B)  completed  112500  112500   \n",
       "1  3GTN3S3B   체중감량 프로그램 (타입B)  completed   44780   44780   \n",
       "2  6B0IG276  체중감량 프로그램 (타입 A)  completed  132000  149000   \n",
       "3  EMGRU2MO  체중감량 프로그램 (타입 A)  completed  112500  112500   \n",
       "4  1ELG96TX   체중감량 프로그램 (타입B)  completed   44780   44780   \n",
       "\n",
       "                     결제시각       결제유형        채널  보조식품가격 보조식품(추가구매)    고객등급  \\\n",
       "0 2017-04-14 19:03:29.976  Recurring    others       0       구매안함  Normal   \n",
       "1 2017-05-23 20:53:54.368  Recurring    others       0       구매안함  Normal   \n",
       "2 2017-08-23 23:39:21.840  Recurring  facebook   17000   식이요법보조제A     VIP   \n",
       "3 2017-08-28 20:18:22.824  Recurring     naver       0       구매안함  Normal   \n",
       "4 2017-05-07 17:50:30.944  Recurring  facebook       0       구매안함  Normal   \n",
       "\n",
       "      년  월   일  결제(시)       결제날짜  \n",
       "0  2017  4  14     19 2017-04-14  \n",
       "1  2017  5  23     20 2017-05-23  \n",
       "2  2017  8  23     23 2017-08-23  \n",
       "3  2017  8  28     20 2017-08-28  \n",
       "4  2017  5   7     17 2017-05-07  "
      ]
     },
     "execution_count": 50,
     "metadata": {},
     "output_type": "execute_result"
    }
   ],
   "source": [
    "# df1[\"년\"].astype(\"str\") + \"-\" + df1[\"월\"].astype(\"str\") + \"-\" + df1[\"일\"].astype(\"str\")\n",
    "df1[\"결제날짜\"] = pd.to_datetime(df1['결제시각'].dt.date)\n",
    "df1.head()"
   ]
  },
  {
   "cell_type": "markdown",
   "id": "f3925a75",
   "metadata": {},
   "source": [
    "8. '결제시각'을 이용하여, '월'을 입력 했을때, '프로그램'별 '일자'에 따른 '최종결제금액' 합을 '월_program_amount.xlsx'이름으로 저장하는 함수를 구성하시오. (15점)"
   ]
  },
  {
   "cell_type": "code",
   "execution_count": 54,
   "id": "045a9ce5",
   "metadata": {},
   "outputs": [],
   "source": [
    "def func(x):\n",
    "    month = x\n",
    "    a = df1[df1['월']==month].pivot_table(index = \"프로그램\", columns = \"일\",\n",
    "                                    values = \"최종결제금액\", aggfunc=\"sum\")\n",
    "    a.to_excel(f\"{month}_program_amount.xlsx\")"
   ]
  },
  {
   "cell_type": "markdown",
   "id": "87c856f4",
   "metadata": {},
   "source": [
    "9. '결제날짜'를 이용해, '채널' 별 6월 대비 7월의 '최종결제금액' 합의 증감율을 계산하시오. (10점)\n",
    "    - 증감율 : (7월 최종결제금액 합) - (6월 최종결제금액 합) / (6월 최종결제금액 합)"
   ]
  },
  {
   "cell_type": "code",
   "execution_count": 58,
   "id": "8f7c4abf",
   "metadata": {},
   "outputs": [
    {
     "data": {
      "text/plain": [
       "채널\n",
       "direct      -0.594715\n",
       "email       -0.235924\n",
       "facebook     0.006005\n",
       "google      -0.587282\n",
       "instagram    0.800000\n",
       "naver       -0.104573\n",
       "others      -0.579701\n",
       "dtype: float64"
      ]
     },
     "execution_count": 58,
     "metadata": {},
     "output_type": "execute_result"
    }
   ],
   "source": [
    "a = df1.pivot_table(index = \"채널\", columns = \"월\",\n",
    "               values = \"최종결제금액\", aggfunc=\"sum\")\n",
    "\n",
    "(a[7] - a[6]) / a[6]"
   ]
  },
  {
   "cell_type": "markdown",
   "id": "a424ffe3",
   "metadata": {},
   "source": [
    "10. 보조식품을 구매한 고객들의 '채널' 별 '보조식품가격'의 합을 계산하시오. (10점)"
   ]
  },
  {
   "cell_type": "code",
   "execution_count": 64,
   "id": "52d9a90e",
   "metadata": {},
   "outputs": [
    {
     "data": {
      "text/html": [
       "<div>\n",
       "<style scoped>\n",
       "    .dataframe tbody tr th:only-of-type {\n",
       "        vertical-align: middle;\n",
       "    }\n",
       "\n",
       "    .dataframe tbody tr th {\n",
       "        vertical-align: top;\n",
       "    }\n",
       "\n",
       "    .dataframe thead th {\n",
       "        text-align: right;\n",
       "    }\n",
       "</style>\n",
       "<table border=\"1\" class=\"dataframe\">\n",
       "  <thead>\n",
       "    <tr style=\"text-align: right;\">\n",
       "      <th></th>\n",
       "      <th>보조식품가격</th>\n",
       "    </tr>\n",
       "    <tr>\n",
       "      <th>채널</th>\n",
       "      <th></th>\n",
       "    </tr>\n",
       "  </thead>\n",
       "  <tbody>\n",
       "    <tr>\n",
       "      <th>direct</th>\n",
       "      <td>260000</td>\n",
       "    </tr>\n",
       "    <tr>\n",
       "      <th>email</th>\n",
       "      <td>184000</td>\n",
       "    </tr>\n",
       "    <tr>\n",
       "      <th>facebook</th>\n",
       "      <td>47936000</td>\n",
       "    </tr>\n",
       "    <tr>\n",
       "      <th>google</th>\n",
       "      <td>134000</td>\n",
       "    </tr>\n",
       "    <tr>\n",
       "      <th>instagram</th>\n",
       "      <td>121000</td>\n",
       "    </tr>\n",
       "    <tr>\n",
       "      <th>naver</th>\n",
       "      <td>1462000</td>\n",
       "    </tr>\n",
       "    <tr>\n",
       "      <th>others</th>\n",
       "      <td>1921000</td>\n",
       "    </tr>\n",
       "  </tbody>\n",
       "</table>\n",
       "</div>"
      ],
      "text/plain": [
       "             보조식품가격\n",
       "채널                 \n",
       "direct       260000\n",
       "email        184000\n",
       "facebook   47936000\n",
       "google       134000\n",
       "instagram    121000\n",
       "naver       1462000\n",
       "others      1921000"
      ]
     },
     "execution_count": 64,
     "metadata": {},
     "output_type": "execute_result"
    }
   ],
   "source": [
    "a = df1[~(df1['보조식품(추가구매)'] == \"구매안함\")]\n",
    "a.pivot_table(index= \"채널\", values = \"보조식품가격\", aggfunc=\"sum\")"
   ]
  },
  {
   "cell_type": "code",
   "execution_count": null,
   "id": "2ad938ce",
   "metadata": {},
   "outputs": [],
   "source": []
  },
  {
   "cell_type": "code",
   "execution_count": null,
   "id": "404665ce",
   "metadata": {},
   "outputs": [],
   "source": []
  },
  {
   "cell_type": "code",
   "execution_count": null,
   "id": "43360d16",
   "metadata": {},
   "outputs": [],
   "source": []
  },
  {
   "cell_type": "code",
   "execution_count": null,
   "id": "d7009723",
   "metadata": {},
   "outputs": [],
   "source": []
  },
  {
   "cell_type": "code",
   "execution_count": null,
   "id": "67c06fb6",
   "metadata": {},
   "outputs": [],
   "source": []
  },
  {
   "cell_type": "code",
   "execution_count": null,
   "id": "8d1107d3",
   "metadata": {},
   "outputs": [],
   "source": []
  }
 ],
 "metadata": {
  "kernelspec": {
   "display_name": "Python 3 (ipykernel)",
   "language": "python",
   "name": "python3"
  },
  "language_info": {
   "codemirror_mode": {
    "name": "ipython",
    "version": 3
   },
   "file_extension": ".py",
   "mimetype": "text/x-python",
   "name": "python",
   "nbconvert_exporter": "python",
   "pygments_lexer": "ipython3",
   "version": "3.11.5"
  }
 },
 "nbformat": 4,
 "nbformat_minor": 5
}
