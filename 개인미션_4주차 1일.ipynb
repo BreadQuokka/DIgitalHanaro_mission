{
 "cells": [
  {
   "cell_type": "markdown",
   "id": "2d7ac0d5",
   "metadata": {},
   "source": [
    "1. 12_Data.csv 파일을 불러와 df1으로 선언 한 뒤, 아래의 미션을 수행\n",
    "(해당 데이터는 체강 세포 이미지 데이터로, 구강 내 암세포(M)와 정상세포(B)의 기하적 특성을 수치화 한 자료)"
   ]
  },
  {
   "cell_type": "code",
   "execution_count": 2,
   "id": "02ae5826",
   "metadata": {},
   "outputs": [
    {
     "data": {
      "text/html": [
       "<div>\n",
       "<style scoped>\n",
       "    .dataframe tbody tr th:only-of-type {\n",
       "        vertical-align: middle;\n",
       "    }\n",
       "\n",
       "    .dataframe tbody tr th {\n",
       "        vertical-align: top;\n",
       "    }\n",
       "\n",
       "    .dataframe thead th {\n",
       "        text-align: right;\n",
       "    }\n",
       "</style>\n",
       "<table border=\"1\" class=\"dataframe\">\n",
       "  <thead>\n",
       "    <tr style=\"text-align: right;\">\n",
       "      <th></th>\n",
       "      <th>Image ID</th>\n",
       "      <th>Diagnosis</th>\n",
       "      <th>Mean Radius</th>\n",
       "      <th>Mean Perimeter</th>\n",
       "      <th>Mean Area</th>\n",
       "      <th>Mean Texture</th>\n",
       "      <th>Mean Smoothness</th>\n",
       "      <th>Mean Compactness</th>\n",
       "      <th>Mean Concavity</th>\n",
       "      <th>Mean Concave Points</th>\n",
       "      <th>...</th>\n",
       "      <th>SE Radius</th>\n",
       "      <th>SE Perimeter</th>\n",
       "      <th>SE Area</th>\n",
       "      <th>SE Texture</th>\n",
       "      <th>SE Smoothness</th>\n",
       "      <th>SE Compactness</th>\n",
       "      <th>SE Concavity</th>\n",
       "      <th>SE Concave Points</th>\n",
       "      <th>SE Symmetry</th>\n",
       "      <th>SE Fractal Dim</th>\n",
       "    </tr>\n",
       "  </thead>\n",
       "  <tbody>\n",
       "    <tr>\n",
       "      <th>0</th>\n",
       "      <td>842302</td>\n",
       "      <td>M</td>\n",
       "      <td>17.99</td>\n",
       "      <td>122.80</td>\n",
       "      <td>1001.0</td>\n",
       "      <td>10.38</td>\n",
       "      <td>0.12</td>\n",
       "      <td>0.27760</td>\n",
       "      <td>0.3001</td>\n",
       "      <td>0.1471</td>\n",
       "      <td>...</td>\n",
       "      <td>1.0950</td>\n",
       "      <td>8.589</td>\n",
       "      <td>153.40</td>\n",
       "      <td>0.9053</td>\n",
       "      <td>0.0064</td>\n",
       "      <td>0.0490</td>\n",
       "      <td>0.0537</td>\n",
       "      <td>0.0159</td>\n",
       "      <td>0.0300</td>\n",
       "      <td>0.0062</td>\n",
       "    </tr>\n",
       "    <tr>\n",
       "      <th>1</th>\n",
       "      <td>842517</td>\n",
       "      <td>M</td>\n",
       "      <td>20.57</td>\n",
       "      <td>132.90</td>\n",
       "      <td>1326.0</td>\n",
       "      <td>17.77</td>\n",
       "      <td>0.08</td>\n",
       "      <td>0.07864</td>\n",
       "      <td>0.0869</td>\n",
       "      <td>0.0702</td>\n",
       "      <td>...</td>\n",
       "      <td>0.5435</td>\n",
       "      <td>3.398</td>\n",
       "      <td>74.08</td>\n",
       "      <td>0.7339</td>\n",
       "      <td>0.0052</td>\n",
       "      <td>0.0131</td>\n",
       "      <td>0.0186</td>\n",
       "      <td>0.0134</td>\n",
       "      <td>0.0139</td>\n",
       "      <td>0.0035</td>\n",
       "    </tr>\n",
       "    <tr>\n",
       "      <th>2</th>\n",
       "      <td>84300903</td>\n",
       "      <td>M</td>\n",
       "      <td>19.69</td>\n",
       "      <td>130.00</td>\n",
       "      <td>1203.0</td>\n",
       "      <td>21.25</td>\n",
       "      <td>0.11</td>\n",
       "      <td>0.15990</td>\n",
       "      <td>0.1974</td>\n",
       "      <td>0.1279</td>\n",
       "      <td>...</td>\n",
       "      <td>0.7456</td>\n",
       "      <td>4.585</td>\n",
       "      <td>94.03</td>\n",
       "      <td>0.7869</td>\n",
       "      <td>0.0062</td>\n",
       "      <td>0.0401</td>\n",
       "      <td>0.0383</td>\n",
       "      <td>0.0206</td>\n",
       "      <td>0.0225</td>\n",
       "      <td>0.0046</td>\n",
       "    </tr>\n",
       "    <tr>\n",
       "      <th>3</th>\n",
       "      <td>84348301</td>\n",
       "      <td>M</td>\n",
       "      <td>11.42</td>\n",
       "      <td>77.58</td>\n",
       "      <td>386.1</td>\n",
       "      <td>20.38</td>\n",
       "      <td>0.14</td>\n",
       "      <td>0.28390</td>\n",
       "      <td>0.2414</td>\n",
       "      <td>0.1052</td>\n",
       "      <td>...</td>\n",
       "      <td>0.4956</td>\n",
       "      <td>3.445</td>\n",
       "      <td>27.23</td>\n",
       "      <td>1.1560</td>\n",
       "      <td>0.0091</td>\n",
       "      <td>0.0746</td>\n",
       "      <td>0.0566</td>\n",
       "      <td>0.0187</td>\n",
       "      <td>0.0596</td>\n",
       "      <td>0.0092</td>\n",
       "    </tr>\n",
       "    <tr>\n",
       "      <th>4</th>\n",
       "      <td>84358402</td>\n",
       "      <td>M</td>\n",
       "      <td>20.29</td>\n",
       "      <td>135.10</td>\n",
       "      <td>1297.0</td>\n",
       "      <td>14.34</td>\n",
       "      <td>0.10</td>\n",
       "      <td>0.13280</td>\n",
       "      <td>0.1980</td>\n",
       "      <td>0.1043</td>\n",
       "      <td>...</td>\n",
       "      <td>0.7572</td>\n",
       "      <td>5.438</td>\n",
       "      <td>94.44</td>\n",
       "      <td>0.7813</td>\n",
       "      <td>0.0115</td>\n",
       "      <td>0.0246</td>\n",
       "      <td>0.0569</td>\n",
       "      <td>0.0189</td>\n",
       "      <td>0.0176</td>\n",
       "      <td>0.0051</td>\n",
       "    </tr>\n",
       "  </tbody>\n",
       "</table>\n",
       "<p>5 rows × 32 columns</p>\n",
       "</div>"
      ],
      "text/plain": [
       "   Image ID Diagnosis  Mean Radius  Mean Perimeter  Mean Area  Mean Texture  \\\n",
       "0    842302         M        17.99          122.80     1001.0         10.38   \n",
       "1    842517         M        20.57          132.90     1326.0         17.77   \n",
       "2  84300903         M        19.69          130.00     1203.0         21.25   \n",
       "3  84348301         M        11.42           77.58      386.1         20.38   \n",
       "4  84358402         M        20.29          135.10     1297.0         14.34   \n",
       "\n",
       "   Mean Smoothness  Mean Compactness  Mean Concavity  Mean Concave Points  \\\n",
       "0             0.12           0.27760          0.3001               0.1471   \n",
       "1             0.08           0.07864          0.0869               0.0702   \n",
       "2             0.11           0.15990          0.1974               0.1279   \n",
       "3             0.14           0.28390          0.2414               0.1052   \n",
       "4             0.10           0.13280          0.1980               0.1043   \n",
       "\n",
       "   ...  SE Radius  SE Perimeter  SE Area  SE Texture  SE Smoothness  \\\n",
       "0  ...     1.0950         8.589   153.40      0.9053         0.0064   \n",
       "1  ...     0.5435         3.398    74.08      0.7339         0.0052   \n",
       "2  ...     0.7456         4.585    94.03      0.7869         0.0062   \n",
       "3  ...     0.4956         3.445    27.23      1.1560         0.0091   \n",
       "4  ...     0.7572         5.438    94.44      0.7813         0.0115   \n",
       "\n",
       "   SE Compactness  SE Concavity  SE Concave Points  SE Symmetry  \\\n",
       "0          0.0490        0.0537             0.0159       0.0300   \n",
       "1          0.0131        0.0186             0.0134       0.0139   \n",
       "2          0.0401        0.0383             0.0206       0.0225   \n",
       "3          0.0746        0.0566             0.0187       0.0596   \n",
       "4          0.0246        0.0569             0.0189       0.0176   \n",
       "\n",
       "   SE Fractal Dim  \n",
       "0          0.0062  \n",
       "1          0.0035  \n",
       "2          0.0046  \n",
       "3          0.0092  \n",
       "4          0.0051  \n",
       "\n",
       "[5 rows x 32 columns]"
      ]
     },
     "execution_count": 2,
     "metadata": {},
     "output_type": "execute_result"
    }
   ],
   "source": [
    "import pandas as pd\n",
    "\n",
    "df1 = pd.read_csv(\"12_Data.csv\")\n",
    "df1.head()"
   ]
  },
  {
   "cell_type": "markdown",
   "id": "75caf6fc",
   "metadata": {},
   "source": [
    "1. \"Max\" 이름이 붙은 Column의 기술통계량을 확인하시오."
   ]
  },
  {
   "cell_type": "code",
   "execution_count": 7,
   "id": "2b278164",
   "metadata": {},
   "outputs": [
    {
     "data": {
      "text/html": [
       "<div>\n",
       "<style scoped>\n",
       "    .dataframe tbody tr th:only-of-type {\n",
       "        vertical-align: middle;\n",
       "    }\n",
       "\n",
       "    .dataframe tbody tr th {\n",
       "        vertical-align: top;\n",
       "    }\n",
       "\n",
       "    .dataframe thead th {\n",
       "        text-align: right;\n",
       "    }\n",
       "</style>\n",
       "<table border=\"1\" class=\"dataframe\">\n",
       "  <thead>\n",
       "    <tr style=\"text-align: right;\">\n",
       "      <th></th>\n",
       "      <th>Max Radius</th>\n",
       "      <th>Max Perimeter</th>\n",
       "      <th>Max Area</th>\n",
       "      <th>Max Texture</th>\n",
       "      <th>Max Smoothness</th>\n",
       "      <th>Max Compactness</th>\n",
       "      <th>Max Concavity</th>\n",
       "      <th>Max Concave Points</th>\n",
       "      <th>Max Symmetry</th>\n",
       "      <th>Max Fractal Dim</th>\n",
       "    </tr>\n",
       "  </thead>\n",
       "  <tbody>\n",
       "    <tr>\n",
       "      <th>count</th>\n",
       "      <td>569.000000</td>\n",
       "      <td>569.000000</td>\n",
       "      <td>569.000000</td>\n",
       "      <td>569.000000</td>\n",
       "      <td>569.000000</td>\n",
       "      <td>569.000000</td>\n",
       "      <td>569.000000</td>\n",
       "      <td>569.000000</td>\n",
       "      <td>569.000000</td>\n",
       "      <td>569.000000</td>\n",
       "    </tr>\n",
       "    <tr>\n",
       "      <th>mean</th>\n",
       "      <td>16.269209</td>\n",
       "      <td>107.261213</td>\n",
       "      <td>880.583128</td>\n",
       "      <td>25.677223</td>\n",
       "      <td>0.132197</td>\n",
       "      <td>0.254253</td>\n",
       "      <td>0.272250</td>\n",
       "      <td>0.114745</td>\n",
       "      <td>0.290316</td>\n",
       "      <td>0.083989</td>\n",
       "    </tr>\n",
       "    <tr>\n",
       "      <th>std</th>\n",
       "      <td>4.833217</td>\n",
       "      <td>33.602542</td>\n",
       "      <td>569.356993</td>\n",
       "      <td>6.146258</td>\n",
       "      <td>0.023292</td>\n",
       "      <td>0.157357</td>\n",
       "      <td>0.208666</td>\n",
       "      <td>0.065767</td>\n",
       "      <td>0.062011</td>\n",
       "      <td>0.018185</td>\n",
       "    </tr>\n",
       "    <tr>\n",
       "      <th>min</th>\n",
       "      <td>7.930000</td>\n",
       "      <td>50.410000</td>\n",
       "      <td>185.200000</td>\n",
       "      <td>12.020000</td>\n",
       "      <td>0.070000</td>\n",
       "      <td>0.030000</td>\n",
       "      <td>0.000000</td>\n",
       "      <td>0.000000</td>\n",
       "      <td>0.160000</td>\n",
       "      <td>0.060000</td>\n",
       "    </tr>\n",
       "    <tr>\n",
       "      <th>25%</th>\n",
       "      <td>13.010000</td>\n",
       "      <td>84.110000</td>\n",
       "      <td>515.300000</td>\n",
       "      <td>21.080000</td>\n",
       "      <td>0.120000</td>\n",
       "      <td>0.150000</td>\n",
       "      <td>0.110000</td>\n",
       "      <td>0.060000</td>\n",
       "      <td>0.250000</td>\n",
       "      <td>0.070000</td>\n",
       "    </tr>\n",
       "    <tr>\n",
       "      <th>50%</th>\n",
       "      <td>14.970000</td>\n",
       "      <td>97.660000</td>\n",
       "      <td>686.500000</td>\n",
       "      <td>25.410000</td>\n",
       "      <td>0.130000</td>\n",
       "      <td>0.210000</td>\n",
       "      <td>0.230000</td>\n",
       "      <td>0.100000</td>\n",
       "      <td>0.280000</td>\n",
       "      <td>0.080000</td>\n",
       "    </tr>\n",
       "    <tr>\n",
       "      <th>75%</th>\n",
       "      <td>18.790000</td>\n",
       "      <td>125.400000</td>\n",
       "      <td>1084.000000</td>\n",
       "      <td>29.720000</td>\n",
       "      <td>0.150000</td>\n",
       "      <td>0.340000</td>\n",
       "      <td>0.380000</td>\n",
       "      <td>0.160000</td>\n",
       "      <td>0.320000</td>\n",
       "      <td>0.090000</td>\n",
       "    </tr>\n",
       "    <tr>\n",
       "      <th>max</th>\n",
       "      <td>36.040000</td>\n",
       "      <td>251.200000</td>\n",
       "      <td>4254.000000</td>\n",
       "      <td>49.540000</td>\n",
       "      <td>0.220000</td>\n",
       "      <td>1.060000</td>\n",
       "      <td>1.250000</td>\n",
       "      <td>0.290000</td>\n",
       "      <td>0.660000</td>\n",
       "      <td>0.210000</td>\n",
       "    </tr>\n",
       "  </tbody>\n",
       "</table>\n",
       "</div>"
      ],
      "text/plain": [
       "       Max Radius  Max Perimeter     Max Area  Max Texture  Max Smoothness  \\\n",
       "count  569.000000     569.000000   569.000000   569.000000      569.000000   \n",
       "mean    16.269209     107.261213   880.583128    25.677223        0.132197   \n",
       "std      4.833217      33.602542   569.356993     6.146258        0.023292   \n",
       "min      7.930000      50.410000   185.200000    12.020000        0.070000   \n",
       "25%     13.010000      84.110000   515.300000    21.080000        0.120000   \n",
       "50%     14.970000      97.660000   686.500000    25.410000        0.130000   \n",
       "75%     18.790000     125.400000  1084.000000    29.720000        0.150000   \n",
       "max     36.040000     251.200000  4254.000000    49.540000        0.220000   \n",
       "\n",
       "       Max Compactness  Max Concavity  Max Concave Points  Max Symmetry  \\\n",
       "count       569.000000     569.000000          569.000000    569.000000   \n",
       "mean          0.254253       0.272250            0.114745      0.290316   \n",
       "std           0.157357       0.208666            0.065767      0.062011   \n",
       "min           0.030000       0.000000            0.000000      0.160000   \n",
       "25%           0.150000       0.110000            0.060000      0.250000   \n",
       "50%           0.210000       0.230000            0.100000      0.280000   \n",
       "75%           0.340000       0.380000            0.160000      0.320000   \n",
       "max           1.060000       1.250000            0.290000      0.660000   \n",
       "\n",
       "       Max Fractal Dim  \n",
       "count       569.000000  \n",
       "mean          0.083989  \n",
       "std           0.018185  \n",
       "min           0.060000  \n",
       "25%           0.070000  \n",
       "50%           0.080000  \n",
       "75%           0.090000  \n",
       "max           0.210000  "
      ]
     },
     "execution_count": 7,
     "metadata": {},
     "output_type": "execute_result"
    }
   ],
   "source": [
    "cols = [i for i in df1.columns if \"Max\" in i]\n",
    "df1[cols].describe()"
   ]
  },
  {
   "cell_type": "markdown",
   "id": "0da15ab7",
   "metadata": {},
   "source": [
    "2. Mean Radius(세포 평균 반지름)값에서 평균으로부터 표준편차 3배 이상 떨어진 데이터의 개수를 확인하시오."
   ]
  },
  {
   "cell_type": "code",
   "execution_count": 15,
   "id": "ab97abb2",
   "metadata": {},
   "outputs": [
    {
     "data": {
      "text/plain": [
       "5"
      ]
     },
     "execution_count": 15,
     "metadata": {},
     "output_type": "execute_result"
    }
   ],
   "source": [
    "A = df1['Mean Radius'] >= df1['Mean Radius'].mean() + df1['Mean Radius'].std() * 3\n",
    "B = df1['Mean Radius'] <= df1['Mean Radius'].mean() - df1['Mean Radius'].std() * 3\n",
    "\n",
    "len(df1[A | B])"
   ]
  },
  {
   "cell_type": "markdown",
   "id": "d822d945",
   "metadata": {},
   "source": [
    "3. Diagnosis(진단 - 암/정상세포 여부)에 따라 Mean Radius(세포 평균 반지름)의 대표값의 차이가 있는지 가설검정을 수행하시오."
   ]
  },
  {
   "cell_type": "code",
   "execution_count": 17,
   "id": "aa020792",
   "metadata": {},
   "outputs": [
    {
     "data": {
      "text/plain": [
       "Diagnosis\n",
       "B    357\n",
       "M    212\n",
       "Name: count, dtype: int64"
      ]
     },
     "execution_count": 17,
     "metadata": {},
     "output_type": "execute_result"
    }
   ],
   "source": [
    "df1['Diagnosis'].value_counts()"
   ]
  },
  {
   "cell_type": "code",
   "execution_count": 23,
   "id": "9b68f2ac",
   "metadata": {
    "scrolled": true
   },
   "outputs": [
    {
     "name": "stdout",
     "output_type": "stream",
     "text": [
      "NormaltestResult(statistic=9.774681423412504, pvalue=0.0075414507243749054)\n",
      "NormaltestResult(statistic=0.431413656391856, pvalue=0.805971555375275)\n"
     ]
    }
   ],
   "source": [
    "import scipy.stats as stats\n",
    "\n",
    "A = df1[\"Diagnosis\"] == 'M'\n",
    "\n",
    "sample1 = df1.loc[A]\n",
    "sample2 = df1.loc[~A]\n",
    "\n",
    "print(stats.normaltest(sample1['Mean Radius']))\n",
    "print(stats.normaltest(sample2['Mean Radius']))"
   ]
  },
  {
   "cell_type": "code",
   "execution_count": 24,
   "id": "7e9f5cee",
   "metadata": {},
   "outputs": [
    {
     "data": {
      "text/plain": [
       "RanksumsResult(statistic=17.46423979127818, pvalue=2.682506544617575e-68)"
      ]
     },
     "execution_count": 24,
     "metadata": {},
     "output_type": "execute_result"
    }
   ],
   "source": [
    "stats.ranksums(sample1['Mean Radius'], sample2['Mean Radius'])"
   ]
  },
  {
   "cell_type": "markdown",
   "id": "882cd0a6",
   "metadata": {},
   "source": [
    "4. Mean Radius(세포 평균 반지름)과 Mean Smoothness(세포 평균 곡률/매끄러움 정도)의 상관성이 있는지 가설검정을 수행하고, 상관 계수를 확인하시오. Correlation Coefficent"
   ]
  },
  {
   "cell_type": "code",
   "execution_count": 27,
   "id": "734e2ae0",
   "metadata": {},
   "outputs": [
    {
     "name": "stdout",
     "output_type": "stream",
     "text": [
      "NormaltestResult(statistic=73.19882231579592, pvalue=1.2737309250385324e-16)\n",
      "NormaltestResult(statistic=16.224407582610276, pvalue=0.00029985732154021345)\n"
     ]
    }
   ],
   "source": [
    "A = df1['Mean Radius']\n",
    "B = df1['Mean Smoothness']\n",
    "\n",
    "print(stats.normaltest(A))\n",
    "print(stats.normaltest(B))"
   ]
  },
  {
   "cell_type": "code",
   "execution_count": 28,
   "id": "69285c3e",
   "metadata": {},
   "outputs": [
    {
     "data": {
      "text/plain": [
       "SignificanceResult(statistic=0.125935259003714, pvalue=0.002617573533346598)"
      ]
     },
     "execution_count": 28,
     "metadata": {},
     "output_type": "execute_result"
    }
   ],
   "source": [
    "stats.spearmanr(A, B)"
   ]
  },
  {
   "cell_type": "code",
   "execution_count": 32,
   "id": "b5413f8f",
   "metadata": {},
   "outputs": [
    {
     "data": {
      "text/html": [
       "<div>\n",
       "<style scoped>\n",
       "    .dataframe tbody tr th:only-of-type {\n",
       "        vertical-align: middle;\n",
       "    }\n",
       "\n",
       "    .dataframe tbody tr th {\n",
       "        vertical-align: top;\n",
       "    }\n",
       "\n",
       "    .dataframe thead th {\n",
       "        text-align: right;\n",
       "    }\n",
       "</style>\n",
       "<table border=\"1\" class=\"dataframe\">\n",
       "  <thead>\n",
       "    <tr style=\"text-align: right;\">\n",
       "      <th></th>\n",
       "      <th>Mean Radius</th>\n",
       "      <th>Mean Smoothness</th>\n",
       "    </tr>\n",
       "  </thead>\n",
       "  <tbody>\n",
       "    <tr>\n",
       "      <th>Mean Radius</th>\n",
       "      <td>1.000000</td>\n",
       "      <td>0.125935</td>\n",
       "    </tr>\n",
       "    <tr>\n",
       "      <th>Mean Smoothness</th>\n",
       "      <td>0.125935</td>\n",
       "      <td>1.000000</td>\n",
       "    </tr>\n",
       "  </tbody>\n",
       "</table>\n",
       "</div>"
      ],
      "text/plain": [
       "                 Mean Radius  Mean Smoothness\n",
       "Mean Radius         1.000000         0.125935\n",
       "Mean Smoothness     0.125935         1.000000"
      ]
     },
     "execution_count": 32,
     "metadata": {},
     "output_type": "execute_result"
    }
   ],
   "source": [
    "df1[['Mean Radius', 'Mean Smoothness']].corr(method = \"spearman\")"
   ]
  },
  {
   "cell_type": "markdown",
   "id": "3680f57a",
   "metadata": {},
   "source": [
    "5. 'Mean'이름이 포함된 모든 Column에 대해 정규성 검정을 실시하고, 정규분포를 따르지 않는 Column들을 모두 Histogram으로 시각화 하는 함수를 구성하시오."
   ]
  },
  {
   "cell_type": "code",
   "execution_count": 40,
   "id": "264079cf",
   "metadata": {},
   "outputs": [],
   "source": [
    "import matplotlib.pyplot as plt\n",
    "\n",
    "def func():\n",
    "    cols = [i for i in df1.columns if \"Mean\" in i]\n",
    "\n",
    "    fig = plt.figure(figsize = (20, 10))\n",
    "\n",
    "    for i in cols:\n",
    "        a = df1[i]\n",
    "        value, p = stats.normaltest(a)\n",
    "        if p < 0.05:\n",
    "            plt.hist(df1[i], bins = 20, alpha = 0.5)\n",
    "\n",
    "    plt.grid()\n",
    "    plt.legend(cols)\n",
    "    plt.show()"
   ]
  },
  {
   "cell_type": "markdown",
   "id": "4a91374d",
   "metadata": {},
   "source": [
    "6. 세포의 기하구조를 입력했을 때, 암/정상 세포를 판단하는 분류모델을 만들고자 한다. 'Mean'이름이 포함된 모든 Column을 X로, Diagnosis를 Y로 선언하여, X를 입력했을 때, Y를 분류하는 분류모델을 생성하시오.\n",
    "* 알고리즘은 Decision Tree를 이용\n",
    "* 학습 / 검증 데이터 비율은 75% : 25% (Random State - 1234)\n",
    "* 생성된 모델을 model_cell.sav로 저장"
   ]
  },
  {
   "cell_type": "code",
   "execution_count": 42,
   "id": "a81387e6",
   "metadata": {},
   "outputs": [],
   "source": [
    "from sklearn.tree import DecisionTreeClassifier\n",
    "from sklearn.linear_model import LogisticRegression\n",
    "from sklearn.model_selection import train_test_split\n",
    "import pickle"
   ]
  },
  {
   "cell_type": "code",
   "execution_count": 57,
   "id": "9dcbb371",
   "metadata": {},
   "outputs": [
    {
     "data": {
      "text/html": [
       "<style>#sk-container-id-5 {color: black;}#sk-container-id-5 pre{padding: 0;}#sk-container-id-5 div.sk-toggleable {background-color: white;}#sk-container-id-5 label.sk-toggleable__label {cursor: pointer;display: block;width: 100%;margin-bottom: 0;padding: 0.3em;box-sizing: border-box;text-align: center;}#sk-container-id-5 label.sk-toggleable__label-arrow:before {content: \"▸\";float: left;margin-right: 0.25em;color: #696969;}#sk-container-id-5 label.sk-toggleable__label-arrow:hover:before {color: black;}#sk-container-id-5 div.sk-estimator:hover label.sk-toggleable__label-arrow:before {color: black;}#sk-container-id-5 div.sk-toggleable__content {max-height: 0;max-width: 0;overflow: hidden;text-align: left;background-color: #f0f8ff;}#sk-container-id-5 div.sk-toggleable__content pre {margin: 0.2em;color: black;border-radius: 0.25em;background-color: #f0f8ff;}#sk-container-id-5 input.sk-toggleable__control:checked~div.sk-toggleable__content {max-height: 200px;max-width: 100%;overflow: auto;}#sk-container-id-5 input.sk-toggleable__control:checked~label.sk-toggleable__label-arrow:before {content: \"▾\";}#sk-container-id-5 div.sk-estimator input.sk-toggleable__control:checked~label.sk-toggleable__label {background-color: #d4ebff;}#sk-container-id-5 div.sk-label input.sk-toggleable__control:checked~label.sk-toggleable__label {background-color: #d4ebff;}#sk-container-id-5 input.sk-hidden--visually {border: 0;clip: rect(1px 1px 1px 1px);clip: rect(1px, 1px, 1px, 1px);height: 1px;margin: -1px;overflow: hidden;padding: 0;position: absolute;width: 1px;}#sk-container-id-5 div.sk-estimator {font-family: monospace;background-color: #f0f8ff;border: 1px dotted black;border-radius: 0.25em;box-sizing: border-box;margin-bottom: 0.5em;}#sk-container-id-5 div.sk-estimator:hover {background-color: #d4ebff;}#sk-container-id-5 div.sk-parallel-item::after {content: \"\";width: 100%;border-bottom: 1px solid gray;flex-grow: 1;}#sk-container-id-5 div.sk-label:hover label.sk-toggleable__label {background-color: #d4ebff;}#sk-container-id-5 div.sk-serial::before {content: \"\";position: absolute;border-left: 1px solid gray;box-sizing: border-box;top: 0;bottom: 0;left: 50%;z-index: 0;}#sk-container-id-5 div.sk-serial {display: flex;flex-direction: column;align-items: center;background-color: white;padding-right: 0.2em;padding-left: 0.2em;position: relative;}#sk-container-id-5 div.sk-item {position: relative;z-index: 1;}#sk-container-id-5 div.sk-parallel {display: flex;align-items: stretch;justify-content: center;background-color: white;position: relative;}#sk-container-id-5 div.sk-item::before, #sk-container-id-5 div.sk-parallel-item::before {content: \"\";position: absolute;border-left: 1px solid gray;box-sizing: border-box;top: 0;bottom: 0;left: 50%;z-index: -1;}#sk-container-id-5 div.sk-parallel-item {display: flex;flex-direction: column;z-index: 1;position: relative;background-color: white;}#sk-container-id-5 div.sk-parallel-item:first-child::after {align-self: flex-end;width: 50%;}#sk-container-id-5 div.sk-parallel-item:last-child::after {align-self: flex-start;width: 50%;}#sk-container-id-5 div.sk-parallel-item:only-child::after {width: 0;}#sk-container-id-5 div.sk-dashed-wrapped {border: 1px dashed gray;margin: 0 0.4em 0.5em 0.4em;box-sizing: border-box;padding-bottom: 0.4em;background-color: white;}#sk-container-id-5 div.sk-label label {font-family: monospace;font-weight: bold;display: inline-block;line-height: 1.2em;}#sk-container-id-5 div.sk-label-container {text-align: center;}#sk-container-id-5 div.sk-container {/* jupyter's `normalize.less` sets `[hidden] { display: none; }` but bootstrap.min.css set `[hidden] { display: none !important; }` so we also need the `!important` here to be able to override the default hidden behavior on the sphinx rendered scikit-learn.org. See: https://github.com/scikit-learn/scikit-learn/issues/21755 */display: inline-block !important;position: relative;}#sk-container-id-5 div.sk-text-repr-fallback {display: none;}</style><div id=\"sk-container-id-5\" class=\"sk-top-container\"><div class=\"sk-text-repr-fallback\"><pre>LogisticRegression(max_iter=1000)</pre><b>In a Jupyter environment, please rerun this cell to show the HTML representation or trust the notebook. <br />On GitHub, the HTML representation is unable to render, please try loading this page with nbviewer.org.</b></div><div class=\"sk-container\" hidden><div class=\"sk-item\"><div class=\"sk-estimator sk-toggleable\"><input class=\"sk-toggleable__control sk-hidden--visually\" id=\"sk-estimator-id-5\" type=\"checkbox\" checked><label for=\"sk-estimator-id-5\" class=\"sk-toggleable__label sk-toggleable__label-arrow\">LogisticRegression</label><div class=\"sk-toggleable__content\"><pre>LogisticRegression(max_iter=1000)</pre></div></div></div></div></div>"
      ],
      "text/plain": [
       "LogisticRegression(max_iter=1000)"
      ]
     },
     "execution_count": 57,
     "metadata": {},
     "output_type": "execute_result"
    }
   ],
   "source": [
    "cols = [i for i in df1.columns if \"Mean\" in i]\n",
    "\n",
    "X = df1[cols].to_numpy()\n",
    "Y = df1['Diagnosis'].replace({\"M\" : 1, \"B\" : 0}).to_numpy()\n",
    "\n",
    "train_x, test_x, train_y, test_y = train_test_split(X, Y)\n",
    "\n",
    "model = LogisticRegression(max_iter=1000) # 과대적합\n",
    "model.fit(train_x, train_y)"
   ]
  },
  {
   "cell_type": "code",
   "execution_count": 50,
   "id": "8fd8f3eb",
   "metadata": {},
   "outputs": [],
   "source": [
    "f = open(\"model_cell.sav\", 'wb')\n",
    "pickle.dump(model, f)\n",
    "f.close()"
   ]
  },
  {
   "cell_type": "code",
   "execution_count": 58,
   "id": "14d1d1f3",
   "metadata": {},
   "outputs": [
    {
     "data": {
      "text/plain": [
       "array([0, 1, 1, 0, 0, 0, 1, 1, 0, 1, 1, 0, 1, 0, 0, 1, 0, 1, 1, 1, 1, 1,\n",
       "       0, 1, 0, 1, 0, 0, 1, 0, 0, 0, 0, 1, 1, 0, 1, 1, 1, 0, 0, 0, 0, 0,\n",
       "       0, 0, 1, 1, 0, 0, 0, 0, 0, 0, 1, 0, 0, 0, 0, 1, 1, 1, 0, 0, 0, 0,\n",
       "       0, 0, 0, 1, 1, 1, 0, 0, 1, 0, 0, 0, 0, 0, 0, 0, 0, 0, 0, 0, 0, 1,\n",
       "       0, 0, 0, 0, 0, 0, 0, 1, 0, 0, 0, 0, 1, 1, 0, 1, 0, 0, 0, 1, 1, 1,\n",
       "       0, 1, 0, 0, 0, 0, 0, 0, 1, 0, 0, 0, 0, 0, 0, 0, 0, 0, 1, 0, 1, 1,\n",
       "       1, 0, 0, 1, 0, 1, 0, 0, 1, 1, 0], dtype=int64)"
      ]
     },
     "execution_count": 58,
     "metadata": {},
     "output_type": "execute_result"
    }
   ],
   "source": [
    "pred = model.predict(test_x)\n",
    "pred"
   ]
  },
  {
   "cell_type": "code",
   "execution_count": 59,
   "id": "e88cc133",
   "metadata": {},
   "outputs": [
    {
     "name": "stdout",
     "output_type": "stream",
     "text": [
      "              precision    recall  f1-score   support\n",
      "\n",
      "           0       0.97      0.93      0.95        94\n",
      "           1       0.87      0.94      0.90        49\n",
      "\n",
      "    accuracy                           0.93       143\n",
      "   macro avg       0.92      0.93      0.92       143\n",
      "weighted avg       0.93      0.93      0.93       143\n",
      "\n"
     ]
    }
   ],
   "source": [
    "from sklearn.metrics import classification_report\n",
    "\n",
    "report = classification_report(pred, test_y)\n",
    "print(report)"
   ]
  },
  {
   "cell_type": "code",
   "execution_count": 63,
   "id": "66cb28b6",
   "metadata": {},
   "outputs": [
    {
     "data": {
      "image/png": "[encoded data removed]",
      "text/plain": [
       "<Figure size 640x480 with 1 Axes>"
      ]
     },
     "metadata": {},
     "output_type": "display_data"
    }
   ],
   "source": [
    "from sklearn.metrics import precision_recall_curve\n",
    "\n",
    "proba = model.predict_proba(test_x)[:, 1]\n",
    "\n",
    "# 가장 높은 임계값\n",
    "precision, recall, thresholds = precision_recall_curve(test_y, proba)\n",
    "\n",
    "plt.plot(thresholds, precision[:-1], label = \"precision\")\n",
    "plt.plot(thresholds, recall[:-1], label = \"recall\")\n",
    "plt.legend()\n",
    "plt.show()"
   ]
  },
  {
   "cell_type": "code",
   "execution_count": 65,
   "id": "a06a6da3",
   "metadata": {},
   "outputs": [
    {
     "data": {
      "text/plain": [
       "0.9819706498951781"
      ]
     },
     "execution_count": 65,
     "metadata": {},
     "output_type": "execute_result"
    }
   ],
   "source": [
    "from sklearn.metrics import roc_auc_score, roc_curve\n",
    "\n",
    "roc_auc_score(test_y, proba)"
   ]
  },
  {
   "cell_type": "code",
   "execution_count": 66,
   "id": "c3dc68c1",
   "metadata": {},
   "outputs": [],
   "source": [
    "fpr, tpr, th = roc_curve(test_y, proba)"
   ]
  },
  {
   "cell_type": "code",
   "execution_count": 68,
   "id": "fb8a1493",
   "metadata": {},
   "outputs": [
    {
     "data": {
      "image/png": "[encoded data removed]",
      "text/plain": [
       "<Figure size 640x480 with 1 Axes>"
      ]
     },
     "metadata": {},
     "output_type": "display_data"
    }
   ],
   "source": [
    "sample = pd.DataFrame()\n",
    "sample['FPR'] = fpr\n",
    "sample['TPR'] = tpr\n",
    "sample['Thresholds'] = th\n",
    "\n",
    "plt.plot(sample['FPR'], sample['TPR'])\n",
    "plt.plot([0,1], [0,1], linestyle = \"--\")\n",
    "plt.show()"
   ]
  },
  {
   "cell_type": "code",
   "execution_count": null,
   "id": "b7ecb824",
   "metadata": {},
   "outputs": [],
   "source": []
  },
  {
   "cell_type": "code",
   "execution_count": null,
   "id": "5900d436",
   "metadata": {},
   "outputs": [],
   "source": []
  }
 ],
 "metadata": {
  "kernelspec": {
   "display_name": "Python 3 (ipykernel)",
   "language": "python",
   "name": "python3"
  },
  "language_info": {
   "codemirror_mode": {
    "name": "ipython",
    "version": 3
   },
   "file_extension": ".py",
   "mimetype": "text/x-python",
   "name": "python",
   "nbconvert_exporter": "python",
   "pygments_lexer": "ipython3",
   "version": "3.11.5"
  }
 },
 "nbformat": 4,
 "nbformat_minor": 5
}
